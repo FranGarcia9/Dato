{
  "nbformat": 4,
  "nbformat_minor": 0,
  "metadata": {
    "colab": {
      "provenance": [],
      "collapsed_sections": [],
      "include_colab_link": true
    },
    "kernelspec": {
      "name": "python3",
      "display_name": "Python 3"
    },
    "language_info": {
      "name": "python"
    }
  },
  "cells": [
    {
      "cell_type": "markdown",
      "metadata": {
        "id": "view-in-github",
        "colab_type": "text"
      },
      "source": [
        "<a href=\"https://colab.research.google.com/github/FranGarcia9/Dato/blob/main/FDGH_Challenge_Calculus_Exercises.ipynb\" target=\"_parent\"><img src=\"https://colab.research.google.com/assets/colab-badge.svg\" alt=\"Open In Colab\"/></a>"
      ]
    },
    {
      "cell_type": "markdown",
      "source": [
        "# **CHALLENGE :** CALCULUS EXERCISES."
      ],
      "metadata": {
        "id": "F3lFwS9-RVqi"
      }
    },
    {
      "cell_type": "markdown",
      "source": [
        "Una vez visto el ***Hands - On: Calculus***, se presentan la siguientes actividades para que el alumnado pueda repasar y reforzar lo aprendido dentro de la clase de ***Introducción al Cálculo Monovariable***. \n",
        "\n",
        "Para la siguiente dinámica, se hará el uso de las librerías usadas en clase: \n",
        "\n",
        "*   ***Numpy*** : operar los datos a trabajar.\n",
        "*   ***Matplotlib.pyplot*** : graficar los resultados obtenidos.\n",
        "*   ***Sympy*** : realizar operaciones matemáticas complejas."
      ],
      "metadata": {
        "id": "_zbWM856lbb0"
      }
    },
    {
      "cell_type": "markdown",
      "source": [
        "## **ACTIVIDAD 1:** DEFINICIÓN DE FUNCIONES."
      ],
      "metadata": {
        "id": "Uu6Cnm64CJWG"
      }
    },
    {
      "cell_type": "markdown",
      "source": [
        "Definir las siguientes funciones y realizar su código, de tal forma que obedezca la definición de la misma.\n",
        "\n",
        "Para todas las funciones, usar el siguiente dominio:\n",
        "\n",
        "\\begin{equation}\n",
        "Df =[-10, 10] \n",
        "\\end{equation}\n",
        "\n",
        "Determine su gráfico y defina un número de 1000 muestras para una mejor visualización del mismo."
      ],
      "metadata": {
        "id": "Uu25_ZOOk-w6"
      }
    },
    {
      "cell_type": "code",
      "source": [
        "#Importar librerías y definir variables globales\n",
        "import numpy as np\n",
        "import sympy as sy\n",
        "import matplotlib.pyplot as plt\n",
        "\n",
        "x= np.linspace(-10.0, 10, num = 1000)\n"
      ],
      "metadata": {
        "id": "Q8niBJVzketH"
      },
      "execution_count": 133,
      "outputs": []
    },
    {
      "cell_type": "code",
      "source": [
        "# Definir función de visualización\n",
        "def visualization_function(y):\n",
        "  fig, ax = plt.subplots()\n",
        "  ax.plot(x, y)\n",
        "  ax.axhline(y = 0, color = 'r')\n",
        "  ax.axvline(x = 0, color = 'r')\n",
        "  ax.grid()"
      ],
      "metadata": {
        "id": "42moQCEtNiNg"
      },
      "execution_count": 134,
      "outputs": []
    },
    {
      "cell_type": "markdown",
      "source": [
        "### **FUNCIÓN CÚBICA**"
      ],
      "metadata": {
        "id": "dIxwUd7SbTBo"
      }
    },
    {
      "cell_type": "markdown",
      "source": [
        "Una función cúbica tiene la forma:\n",
        "\n",
        "\\begin{equation}\n",
        "y = Ax^3 + Bx^2 + Cx + D \\, \\, \\, \\, \\, \\, \\, \\, \\, \\, \\, \\, ; \\, \\, \\, \\, \\, \\, \\, \\, \\, \\, \\, \\, A, B, C\\wedge D\\in\\mathbb{R}\\, \\, \\, \\, \\, \\, \\, \\, \\, \\, \\, \\, \\wedge \\, \\, \\, \\, \\, \\, \\, \\, \\, \\, \\, \\, A \\neq 0  \n",
        "\\end{equation}\n",
        "\n",
        "Teniendo así:\n",
        "\n",
        "\\begin{equation}\n",
        "Df=\\forall x\\in\\mathbb{R} \\, \\, \\, \\, \\, \\, \\, \\, \\, \\, \\, \\, \\wedge \\, \\, \\, \\, \\, \\, \\, \\, \\, \\, \\, \\, Rf=\\forall y\\in\\mathbb{R} \n",
        "\\end{equation}\n",
        "\n",
        "Para solucionarlo:\n",
        "\n",
        "*   Factorización (Recomendado)\n",
        "*   Formula general.\n",
        "\n"
      ],
      "metadata": {
        "id": "LmxA_uR7sAoN"
      }
    },
    {
      "cell_type": "markdown",
      "source": [
        "\n",
        "---"
      ],
      "metadata": {
        "id": "-gmufNyKr6vF"
      }
    },
    {
      "cell_type": "markdown",
      "source": [
        "**EJEMPLO:** \n",
        "\n",
        "Programar la siguiente función:\n",
        "\n",
        "\\begin{equation}\n",
        "f(x) = x^3\n",
        "\\end{equation}"
      ],
      "metadata": {
        "id": "OVeegiV0qDVG"
      }
    },
    {
      "cell_type": "code",
      "source": [
        "# Definir función\n",
        "\n",
        "def first_function(x):\n",
        "  A=1\n",
        "  B=0\n",
        "  C=0\n",
        "  D=0\n",
        "  y = A*(x**3) + B*(x**2) + C*x + D\n",
        "  return y\n",
        "\n",
        "first_ej = first_function(x)\n",
        "first_ej\n"
      ],
      "metadata": {
        "id": "l4eowJYsyaeH",
        "colab": {
          "base_uri": "https://localhost:8080/"
        },
        "outputId": "2b195e1c-bfc4-46d7-c25c-030c8d692caa"
      },
      "execution_count": 135,
      "outputs": [
        {
          "output_type": "execute_result",
          "data": {
            "text/plain": [
              "array([-1.00000000e+03, -9.94006010e+02, -9.88036020e+02, -9.82089982e+02,\n",
              "       -9.76167847e+02, -9.70269568e+02, -9.64395096e+02, -9.58544383e+02,\n",
              "       -9.52717382e+02, -9.46914043e+02, -9.41134319e+02, -9.35378162e+02,\n",
              "       -9.29645524e+02, -9.23936355e+02, -9.18250609e+02, -9.12588237e+02,\n",
              "       -9.06949191e+02, -9.01333422e+02, -8.95740883e+02, -8.90171526e+02,\n",
              "       -8.84625302e+02, -8.79102163e+02, -8.73602061e+02, -8.68124948e+02,\n",
              "       -8.62670776e+02, -8.57239497e+02, -8.51831062e+02, -8.46445423e+02,\n",
              "       -8.41082532e+02, -8.35742342e+02, -8.30424803e+02, -8.25129868e+02,\n",
              "       -8.19857489e+02, -8.14607617e+02, -8.09380204e+02, -8.04175203e+02,\n",
              "       -7.98992565e+02, -7.93832241e+02, -7.88694184e+02, -7.83578346e+02,\n",
              "       -7.78484678e+02, -7.73413133e+02, -7.68363662e+02, -7.63336216e+02,\n",
              "       -7.58330749e+02, -7.53347211e+02, -7.48385555e+02, -7.43445733e+02,\n",
              "       -7.38527695e+02, -7.33631395e+02, -7.28756784e+02, -7.23903813e+02,\n",
              "       -7.19072436e+02, -7.14262603e+02, -7.09474266e+02, -7.04707378e+02,\n",
              "       -6.99961889e+02, -6.95237753e+02, -6.90534921e+02, -6.85853344e+02,\n",
              "       -6.81192975e+02, -6.76553765e+02, -6.71935667e+02, -6.67338632e+02,\n",
              "       -6.62762611e+02, -6.58207558e+02, -6.53673423e+02, -6.49160159e+02,\n",
              "       -6.44667717e+02, -6.40196049e+02, -6.35745108e+02, -6.31314844e+02,\n",
              "       -6.26905211e+02, -6.22516159e+02, -6.18147640e+02, -6.13799607e+02,\n",
              "       -6.09472011e+02, -6.05164805e+02, -6.00877939e+02, -5.96611366e+02,\n",
              "       -5.92365038e+02, -5.88138906e+02, -5.83932923e+02, -5.79747039e+02,\n",
              "       -5.75581208e+02, -5.71435381e+02, -5.67309510e+02, -5.63203547e+02,\n",
              "       -5.59117443e+02, -5.55051150e+02, -5.51004620e+02, -5.46977806e+02,\n",
              "       -5.42970659e+02, -5.38983130e+02, -5.35015172e+02, -5.31066737e+02,\n",
              "       -5.27137775e+02, -5.23228241e+02, -5.19338084e+02, -5.15467257e+02,\n",
              "       -5.11615712e+02, -5.07783400e+02, -5.03970274e+02, -5.00176286e+02,\n",
              "       -4.96401386e+02, -4.92645528e+02, -4.88908663e+02, -4.85190742e+02,\n",
              "       -4.81491718e+02, -4.77811543e+02, -4.74150168e+02, -4.70507545e+02,\n",
              "       -4.66883626e+02, -4.63278363e+02, -4.59691708e+02, -4.56123612e+02,\n",
              "       -4.52574028e+02, -4.49042907e+02, -4.45530201e+02, -4.42035863e+02,\n",
              "       -4.38559843e+02, -4.35102094e+02, -4.31662568e+02, -4.28241216e+02,\n",
              "       -4.24837991e+02, -4.21452844e+02, -4.18085726e+02, -4.14736591e+02,\n",
              "       -4.11405389e+02, -4.08092073e+02, -4.04796595e+02, -4.01518906e+02,\n",
              "       -3.98258957e+02, -3.95016702e+02, -3.91792092e+02, -3.88585079e+02,\n",
              "       -3.85395614e+02, -3.82223650e+02, -3.79069138e+02, -3.75932030e+02,\n",
              "       -3.72812278e+02, -3.69709834e+02, -3.66624649e+02, -3.63556677e+02,\n",
              "       -3.60505867e+02, -3.57472173e+02, -3.54455547e+02, -3.51455939e+02,\n",
              "       -3.48473302e+02, -3.45507588e+02, -3.42558748e+02, -3.39626735e+02,\n",
              "       -3.36711500e+02, -3.33812995e+02, -3.30931172e+02, -3.28065983e+02,\n",
              "       -3.25217380e+02, -3.22385314e+02, -3.19569738e+02, -3.16770603e+02,\n",
              "       -3.13987861e+02, -3.11221464e+02, -3.08471364e+02, -3.05737513e+02,\n",
              "       -3.03019862e+02, -3.00318363e+02, -2.97632969e+02, -2.94963631e+02,\n",
              "       -2.92310301e+02, -2.89672931e+02, -2.87051473e+02, -2.84445878e+02,\n",
              "       -2.81856098e+02, -2.79282086e+02, -2.76723792e+02, -2.74181170e+02,\n",
              "       -2.71654171e+02, -2.69142746e+02, -2.66646848e+02, -2.64166428e+02,\n",
              "       -2.61701438e+02, -2.59251831e+02, -2.56817557e+02, -2.54398570e+02,\n",
              "       -2.51994820e+02, -2.49606259e+02, -2.47232840e+02, -2.44874514e+02,\n",
              "       -2.42531233e+02, -2.40202949e+02, -2.37889614e+02, -2.35591180e+02,\n",
              "       -2.33307598e+02, -2.31038821e+02, -2.28784799e+02, -2.26545486e+02,\n",
              "       -2.24320833e+02, -2.22110791e+02, -2.19915313e+02, -2.17734351e+02,\n",
              "       -2.15567856e+02, -2.13415780e+02, -2.11278076e+02, -2.09154694e+02,\n",
              "       -2.07045587e+02, -2.04950706e+02, -2.02870005e+02, -2.00803433e+02,\n",
              "       -1.98750944e+02, -1.96712489e+02, -1.94688019e+02, -1.92677488e+02,\n",
              "       -1.90680846e+02, -1.88698045e+02, -1.86729038e+02, -1.84773776e+02,\n",
              "       -1.82832211e+02, -1.80904295e+02, -1.78989980e+02, -1.77089218e+02,\n",
              "       -1.75201959e+02, -1.73328158e+02, -1.71467764e+02, -1.69620730e+02,\n",
              "       -1.67787009e+02, -1.65966551e+02, -1.64159309e+02, -1.62365234e+02,\n",
              "       -1.60584278e+02, -1.58816394e+02, -1.57061533e+02, -1.55319646e+02,\n",
              "       -1.53590686e+02, -1.51874605e+02, -1.50171355e+02, -1.48480886e+02,\n",
              "       -1.46803152e+02, -1.45138104e+02, -1.43485694e+02, -1.41845873e+02,\n",
              "       -1.40218594e+02, -1.38603809e+02, -1.37001469e+02, -1.35411525e+02,\n",
              "       -1.33833931e+02, -1.32268638e+02, -1.30715598e+02, -1.29174762e+02,\n",
              "       -1.27646082e+02, -1.26129511e+02, -1.24625000e+02, -1.23132501e+02,\n",
              "       -1.21651966e+02, -1.20183347e+02, -1.18726595e+02, -1.17281662e+02,\n",
              "       -1.15848501e+02, -1.14427063e+02, -1.13017300e+02, -1.11619164e+02,\n",
              "       -1.10232606e+02, -1.08857579e+02, -1.07494035e+02, -1.06141924e+02,\n",
              "       -1.04801200e+02, -1.03471814e+02, -1.02153718e+02, -1.00846863e+02,\n",
              "       -9.95512021e+01, -9.82666864e+01, -9.69932679e+01, -9.57308986e+01,\n",
              "       -9.44795302e+01, -9.32391147e+01, -9.20096039e+01, -9.07909496e+01,\n",
              "       -8.95831037e+01, -8.83860180e+01, -8.71996444e+01, -8.60239348e+01,\n",
              "       -8.48588410e+01, -8.37043149e+01, -8.25603083e+01, -8.14267731e+01,\n",
              "       -8.03036612e+01, -7.91909243e+01, -7.80885144e+01, -7.69963832e+01,\n",
              "       -7.59144828e+01, -7.48427648e+01, -7.37811813e+01, -7.27296839e+01,\n",
              "       -7.16882247e+01, -7.06567554e+01, -6.96352278e+01, -6.86235940e+01,\n",
              "       -6.76218056e+01, -6.66298146e+01, -6.56475728e+01, -6.46750321e+01,\n",
              "       -6.37121444e+01, -6.27588614e+01, -6.18151350e+01, -6.08809172e+01,\n",
              "       -5.99561597e+01, -5.90408144e+01, -5.81348332e+01, -5.72381678e+01,\n",
              "       -5.63507703e+01, -5.54725924e+01, -5.46035860e+01, -5.37437029e+01,\n",
              "       -5.28928951e+01, -5.20511142e+01, -5.12183123e+01, -5.03944412e+01,\n",
              "       -4.95794527e+01, -4.87732986e+01, -4.79759309e+01, -4.71873014e+01,\n",
              "       -4.64073619e+01, -4.56360643e+01, -4.48733605e+01, -4.41192023e+01,\n",
              "       -4.33735415e+01, -4.26363301e+01, -4.19075199e+01, -4.11870627e+01,\n",
              "       -4.04749103e+01, -3.97710148e+01, -3.90753278e+01, -3.83878013e+01,\n",
              "       -3.77083871e+01, -3.70370370e+01, -3.63737030e+01, -3.57183369e+01,\n",
              "       -3.50708905e+01, -3.44313157e+01, -3.37995643e+01, -3.31755883e+01,\n",
              "       -3.25593394e+01, -3.19507695e+01, -3.13498305e+01, -3.07564742e+01,\n",
              "       -3.01706525e+01, -2.95923172e+01, -2.90214202e+01, -2.84579134e+01,\n",
              "       -2.79017486e+01, -2.73528776e+01, -2.68112524e+01, -2.62768247e+01,\n",
              "       -2.57495464e+01, -2.52293694e+01, -2.47162456e+01, -2.42101268e+01,\n",
              "       -2.37109648e+01, -2.32187115e+01, -2.27333188e+01, -2.22547385e+01,\n",
              "       -2.17829224e+01, -2.13178225e+01, -2.08593906e+01, -2.04075785e+01,\n",
              "       -1.99623381e+01, -1.95236213e+01, -1.90913799e+01, -1.86655657e+01,\n",
              "       -1.82461307e+01, -1.78330266e+01, -1.74262054e+01, -1.70256188e+01,\n",
              "       -1.66312188e+01, -1.62429572e+01, -1.58607858e+01, -1.54846565e+01,\n",
              "       -1.51145212e+01, -1.47503318e+01, -1.43920400e+01, -1.40395977e+01,\n",
              "       -1.36929568e+01, -1.33520692e+01, -1.30168866e+01, -1.26873610e+01,\n",
              "       -1.23634443e+01, -1.20450881e+01, -1.17322445e+01, -1.14248653e+01,\n",
              "       -1.11229023e+01, -1.08263075e+01, -1.05350325e+01, -1.02490294e+01,\n",
              "       -9.96824985e+00, -9.69264587e+00, -9.42216925e+00, -9.15677185e+00,\n",
              "       -8.89640554e+00, -8.64102215e+00, -8.39057356e+00, -8.14501161e+00,\n",
              "       -7.90428816e+00, -7.66835507e+00, -7.43716419e+00, -7.21066738e+00,\n",
              "       -6.98881649e+00, -6.77156338e+00, -6.55885991e+00, -6.35065793e+00,\n",
              "       -6.14690929e+00, -5.94756586e+00, -5.75257949e+00, -5.56190203e+00,\n",
              "       -5.37548533e+00, -5.19328127e+00, -5.01524168e+00, -4.84131844e+00,\n",
              "       -4.67146338e+00, -4.50562837e+00, -4.34376527e+00, -4.18582592e+00,\n",
              "       -4.03176220e+00, -3.88152594e+00, -3.73506901e+00, -3.59234326e+00,\n",
              "       -3.45330055e+00, -3.31789273e+00, -3.18607166e+00, -3.05778920e+00,\n",
              "       -2.93299720e+00, -2.81164751e+00, -2.69369200e+00, -2.57908251e+00,\n",
              "       -2.46777091e+00, -2.35970905e+00, -2.25484878e+00, -2.15314197e+00,\n",
              "       -2.05454046e+00, -1.95899611e+00, -1.86646078e+00, -1.77688633e+00,\n",
              "       -1.69022460e+00, -1.60642746e+00, -1.52544677e+00, -1.44723436e+00,\n",
              "       -1.37174211e+00, -1.29892187e+00, -1.22872549e+00, -1.16110483e+00,\n",
              "       -1.09601175e+00, -1.03339810e+00, -9.73215729e-01, -9.15416504e-01,\n",
              "       -8.59952278e-01, -8.06774905e-01, -7.55836242e-01, -7.07088144e-01,\n",
              "       -6.60482467e-01, -6.15971066e-01, -5.73505797e-01, -5.33038517e-01,\n",
              "       -4.94521080e-01, -4.57905343e-01, -4.23143160e-01, -3.90186389e-01,\n",
              "       -3.58986884e-01, -3.29496501e-01, -3.01667097e-01, -2.75450526e-01,\n",
              "       -2.50798644e-01, -2.27663307e-01, -2.05996371e-01, -1.85749692e-01,\n",
              "       -1.66875125e-01, -1.49324526e-01, -1.33049750e-01, -1.18002654e-01,\n",
              "       -1.04135093e-01, -9.13989227e-02, -7.97459988e-02, -6.91281772e-02,\n",
              "       -5.94973135e-02, -5.08052634e-02, -4.30038827e-02, -3.60450270e-02,\n",
              "       -2.98805520e-02, -2.44623136e-02, -1.97421673e-02, -1.56719689e-02,\n",
              "       -1.22035741e-02, -9.28883866e-03, -6.87961822e-03, -4.92776853e-03,\n",
              "       -3.38514528e-03, -2.20360420e-03, -1.33500100e-03, -7.31191381e-04,\n",
              "       -3.44031061e-04, -1.25375751e-04, -2.70811623e-05, -1.00300601e-06,\n",
              "        1.00300601e-06,  2.70811623e-05,  1.25375751e-04,  3.44031061e-04,\n",
              "        7.31191381e-04,  1.33500100e-03,  2.20360420e-03,  3.38514528e-03,\n",
              "        4.92776853e-03,  6.87961822e-03,  9.28883866e-03,  1.22035741e-02,\n",
              "        1.56719689e-02,  1.97421673e-02,  2.44623136e-02,  2.98805520e-02,\n",
              "        3.60450270e-02,  4.30038827e-02,  5.08052634e-02,  5.94973135e-02,\n",
              "        6.91281772e-02,  7.97459988e-02,  9.13989227e-02,  1.04135093e-01,\n",
              "        1.18002654e-01,  1.33049750e-01,  1.49324526e-01,  1.66875125e-01,\n",
              "        1.85749692e-01,  2.05996371e-01,  2.27663307e-01,  2.50798644e-01,\n",
              "        2.75450526e-01,  3.01667097e-01,  3.29496501e-01,  3.58986884e-01,\n",
              "        3.90186389e-01,  4.23143160e-01,  4.57905343e-01,  4.94521080e-01,\n",
              "        5.33038517e-01,  5.73505797e-01,  6.15971066e-01,  6.60482467e-01,\n",
              "        7.07088144e-01,  7.55836242e-01,  8.06774905e-01,  8.59952278e-01,\n",
              "        9.15416504e-01,  9.73215729e-01,  1.03339810e+00,  1.09601175e+00,\n",
              "        1.16110483e+00,  1.22872549e+00,  1.29892187e+00,  1.37174211e+00,\n",
              "        1.44723436e+00,  1.52544677e+00,  1.60642746e+00,  1.69022460e+00,\n",
              "        1.77688633e+00,  1.86646078e+00,  1.95899611e+00,  2.05454046e+00,\n",
              "        2.15314197e+00,  2.25484878e+00,  2.35970905e+00,  2.46777091e+00,\n",
              "        2.57908251e+00,  2.69369200e+00,  2.81164751e+00,  2.93299720e+00,\n",
              "        3.05778920e+00,  3.18607166e+00,  3.31789273e+00,  3.45330055e+00,\n",
              "        3.59234326e+00,  3.73506901e+00,  3.88152594e+00,  4.03176220e+00,\n",
              "        4.18582592e+00,  4.34376527e+00,  4.50562837e+00,  4.67146338e+00,\n",
              "        4.84131844e+00,  5.01524168e+00,  5.19328127e+00,  5.37548533e+00,\n",
              "        5.56190203e+00,  5.75257949e+00,  5.94756586e+00,  6.14690929e+00,\n",
              "        6.35065793e+00,  6.55885991e+00,  6.77156338e+00,  6.98881649e+00,\n",
              "        7.21066738e+00,  7.43716419e+00,  7.66835507e+00,  7.90428816e+00,\n",
              "        8.14501161e+00,  8.39057356e+00,  8.64102215e+00,  8.89640554e+00,\n",
              "        9.15677185e+00,  9.42216925e+00,  9.69264587e+00,  9.96824985e+00,\n",
              "        1.02490294e+01,  1.05350325e+01,  1.08263075e+01,  1.11229023e+01,\n",
              "        1.14248653e+01,  1.17322445e+01,  1.20450881e+01,  1.23634443e+01,\n",
              "        1.26873610e+01,  1.30168866e+01,  1.33520692e+01,  1.36929568e+01,\n",
              "        1.40395977e+01,  1.43920400e+01,  1.47503318e+01,  1.51145212e+01,\n",
              "        1.54846565e+01,  1.58607858e+01,  1.62429572e+01,  1.66312188e+01,\n",
              "        1.70256188e+01,  1.74262054e+01,  1.78330266e+01,  1.82461307e+01,\n",
              "        1.86655657e+01,  1.90913799e+01,  1.95236213e+01,  1.99623381e+01,\n",
              "        2.04075785e+01,  2.08593906e+01,  2.13178225e+01,  2.17829224e+01,\n",
              "        2.22547385e+01,  2.27333188e+01,  2.32187115e+01,  2.37109648e+01,\n",
              "        2.42101268e+01,  2.47162456e+01,  2.52293694e+01,  2.57495464e+01,\n",
              "        2.62768247e+01,  2.68112524e+01,  2.73528776e+01,  2.79017486e+01,\n",
              "        2.84579134e+01,  2.90214202e+01,  2.95923172e+01,  3.01706525e+01,\n",
              "        3.07564742e+01,  3.13498305e+01,  3.19507695e+01,  3.25593394e+01,\n",
              "        3.31755883e+01,  3.37995643e+01,  3.44313157e+01,  3.50708905e+01,\n",
              "        3.57183369e+01,  3.63737030e+01,  3.70370370e+01,  3.77083871e+01,\n",
              "        3.83878013e+01,  3.90753278e+01,  3.97710148e+01,  4.04749103e+01,\n",
              "        4.11870627e+01,  4.19075199e+01,  4.26363301e+01,  4.33735415e+01,\n",
              "        4.41192023e+01,  4.48733605e+01,  4.56360643e+01,  4.64073619e+01,\n",
              "        4.71873014e+01,  4.79759309e+01,  4.87732986e+01,  4.95794527e+01,\n",
              "        5.03944412e+01,  5.12183123e+01,  5.20511142e+01,  5.28928951e+01,\n",
              "        5.37437029e+01,  5.46035860e+01,  5.54725924e+01,  5.63507703e+01,\n",
              "        5.72381678e+01,  5.81348332e+01,  5.90408144e+01,  5.99561597e+01,\n",
              "        6.08809172e+01,  6.18151350e+01,  6.27588614e+01,  6.37121444e+01,\n",
              "        6.46750321e+01,  6.56475728e+01,  6.66298146e+01,  6.76218056e+01,\n",
              "        6.86235940e+01,  6.96352278e+01,  7.06567554e+01,  7.16882247e+01,\n",
              "        7.27296839e+01,  7.37811813e+01,  7.48427648e+01,  7.59144828e+01,\n",
              "        7.69963832e+01,  7.80885144e+01,  7.91909243e+01,  8.03036612e+01,\n",
              "        8.14267731e+01,  8.25603083e+01,  8.37043149e+01,  8.48588410e+01,\n",
              "        8.60239348e+01,  8.71996444e+01,  8.83860180e+01,  8.95831037e+01,\n",
              "        9.07909496e+01,  9.20096039e+01,  9.32391147e+01,  9.44795302e+01,\n",
              "        9.57308986e+01,  9.69932679e+01,  9.82666864e+01,  9.95512021e+01,\n",
              "        1.00846863e+02,  1.02153718e+02,  1.03471814e+02,  1.04801200e+02,\n",
              "        1.06141924e+02,  1.07494035e+02,  1.08857579e+02,  1.10232606e+02,\n",
              "        1.11619164e+02,  1.13017300e+02,  1.14427063e+02,  1.15848501e+02,\n",
              "        1.17281662e+02,  1.18726595e+02,  1.20183347e+02,  1.21651966e+02,\n",
              "        1.23132501e+02,  1.24625000e+02,  1.26129511e+02,  1.27646082e+02,\n",
              "        1.29174762e+02,  1.30715598e+02,  1.32268638e+02,  1.33833931e+02,\n",
              "        1.35411525e+02,  1.37001469e+02,  1.38603809e+02,  1.40218594e+02,\n",
              "        1.41845873e+02,  1.43485694e+02,  1.45138104e+02,  1.46803152e+02,\n",
              "        1.48480886e+02,  1.50171355e+02,  1.51874605e+02,  1.53590686e+02,\n",
              "        1.55319646e+02,  1.57061533e+02,  1.58816394e+02,  1.60584278e+02,\n",
              "        1.62365234e+02,  1.64159309e+02,  1.65966551e+02,  1.67787009e+02,\n",
              "        1.69620730e+02,  1.71467764e+02,  1.73328158e+02,  1.75201959e+02,\n",
              "        1.77089218e+02,  1.78989980e+02,  1.80904295e+02,  1.82832211e+02,\n",
              "        1.84773776e+02,  1.86729038e+02,  1.88698045e+02,  1.90680846e+02,\n",
              "        1.92677488e+02,  1.94688019e+02,  1.96712489e+02,  1.98750944e+02,\n",
              "        2.00803433e+02,  2.02870005e+02,  2.04950706e+02,  2.07045587e+02,\n",
              "        2.09154694e+02,  2.11278076e+02,  2.13415780e+02,  2.15567856e+02,\n",
              "        2.17734351e+02,  2.19915313e+02,  2.22110791e+02,  2.24320833e+02,\n",
              "        2.26545486e+02,  2.28784799e+02,  2.31038821e+02,  2.33307598e+02,\n",
              "        2.35591180e+02,  2.37889614e+02,  2.40202949e+02,  2.42531233e+02,\n",
              "        2.44874514e+02,  2.47232840e+02,  2.49606259e+02,  2.51994820e+02,\n",
              "        2.54398570e+02,  2.56817557e+02,  2.59251831e+02,  2.61701438e+02,\n",
              "        2.64166428e+02,  2.66646848e+02,  2.69142746e+02,  2.71654171e+02,\n",
              "        2.74181170e+02,  2.76723792e+02,  2.79282086e+02,  2.81856098e+02,\n",
              "        2.84445878e+02,  2.87051473e+02,  2.89672931e+02,  2.92310301e+02,\n",
              "        2.94963631e+02,  2.97632969e+02,  3.00318363e+02,  3.03019862e+02,\n",
              "        3.05737513e+02,  3.08471364e+02,  3.11221464e+02,  3.13987861e+02,\n",
              "        3.16770603e+02,  3.19569738e+02,  3.22385314e+02,  3.25217380e+02,\n",
              "        3.28065983e+02,  3.30931172e+02,  3.33812995e+02,  3.36711500e+02,\n",
              "        3.39626735e+02,  3.42558748e+02,  3.45507588e+02,  3.48473302e+02,\n",
              "        3.51455939e+02,  3.54455547e+02,  3.57472173e+02,  3.60505867e+02,\n",
              "        3.63556677e+02,  3.66624649e+02,  3.69709834e+02,  3.72812278e+02,\n",
              "        3.75932030e+02,  3.79069138e+02,  3.82223650e+02,  3.85395614e+02,\n",
              "        3.88585079e+02,  3.91792092e+02,  3.95016702e+02,  3.98258957e+02,\n",
              "        4.01518906e+02,  4.04796595e+02,  4.08092073e+02,  4.11405389e+02,\n",
              "        4.14736591e+02,  4.18085726e+02,  4.21452844e+02,  4.24837991e+02,\n",
              "        4.28241216e+02,  4.31662568e+02,  4.35102094e+02,  4.38559843e+02,\n",
              "        4.42035863e+02,  4.45530201e+02,  4.49042907e+02,  4.52574028e+02,\n",
              "        4.56123612e+02,  4.59691708e+02,  4.63278363e+02,  4.66883626e+02,\n",
              "        4.70507545e+02,  4.74150168e+02,  4.77811543e+02,  4.81491718e+02,\n",
              "        4.85190742e+02,  4.88908663e+02,  4.92645528e+02,  4.96401386e+02,\n",
              "        5.00176286e+02,  5.03970274e+02,  5.07783400e+02,  5.11615712e+02,\n",
              "        5.15467257e+02,  5.19338084e+02,  5.23228241e+02,  5.27137775e+02,\n",
              "        5.31066737e+02,  5.35015172e+02,  5.38983130e+02,  5.42970659e+02,\n",
              "        5.46977806e+02,  5.51004620e+02,  5.55051150e+02,  5.59117443e+02,\n",
              "        5.63203547e+02,  5.67309510e+02,  5.71435381e+02,  5.75581208e+02,\n",
              "        5.79747039e+02,  5.83932923e+02,  5.88138906e+02,  5.92365038e+02,\n",
              "        5.96611366e+02,  6.00877939e+02,  6.05164805e+02,  6.09472011e+02,\n",
              "        6.13799607e+02,  6.18147640e+02,  6.22516159e+02,  6.26905211e+02,\n",
              "        6.31314844e+02,  6.35745108e+02,  6.40196049e+02,  6.44667717e+02,\n",
              "        6.49160159e+02,  6.53673423e+02,  6.58207558e+02,  6.62762611e+02,\n",
              "        6.67338632e+02,  6.71935667e+02,  6.76553765e+02,  6.81192975e+02,\n",
              "        6.85853344e+02,  6.90534921e+02,  6.95237753e+02,  6.99961889e+02,\n",
              "        7.04707378e+02,  7.09474266e+02,  7.14262603e+02,  7.19072436e+02,\n",
              "        7.23903813e+02,  7.28756784e+02,  7.33631395e+02,  7.38527695e+02,\n",
              "        7.43445733e+02,  7.48385555e+02,  7.53347211e+02,  7.58330749e+02,\n",
              "        7.63336216e+02,  7.68363662e+02,  7.73413133e+02,  7.78484678e+02,\n",
              "        7.83578346e+02,  7.88694184e+02,  7.93832241e+02,  7.98992565e+02,\n",
              "        8.04175203e+02,  8.09380204e+02,  8.14607617e+02,  8.19857489e+02,\n",
              "        8.25129868e+02,  8.30424803e+02,  8.35742342e+02,  8.41082532e+02,\n",
              "        8.46445423e+02,  8.51831062e+02,  8.57239497e+02,  8.62670776e+02,\n",
              "        8.68124948e+02,  8.73602061e+02,  8.79102163e+02,  8.84625302e+02,\n",
              "        8.90171526e+02,  8.95740883e+02,  9.01333422e+02,  9.06949191e+02,\n",
              "        9.12588237e+02,  9.18250609e+02,  9.23936355e+02,  9.29645524e+02,\n",
              "        9.35378162e+02,  9.41134319e+02,  9.46914043e+02,  9.52717382e+02,\n",
              "        9.58544383e+02,  9.64395096e+02,  9.70269568e+02,  9.76167847e+02,\n",
              "        9.82089982e+02,  9.88036020e+02,  9.94006010e+02,  1.00000000e+03])"
            ]
          },
          "metadata": {},
          "execution_count": 135
        }
      ]
    },
    {
      "cell_type": "code",
      "source": [
        "# Usar función de visualización\n",
        "visualization_function(first_ej)"
      ],
      "metadata": {
        "id": "iGbPR9klyinM",
        "colab": {
          "base_uri": "https://localhost:8080/",
          "height": 265
        },
        "outputId": "f961b73f-ff36-46d9-b56c-3c4f9b7805b7"
      },
      "execution_count": 136,
      "outputs": [
        {
          "output_type": "display_data",
          "data": {
            "text/plain": [
              "<Figure size 432x288 with 1 Axes>"
            ],
            "image/png": "[encoded data removed]"
          },
          "metadata": {
            "needs_background": "light"
          }
        }
      ]
    },
    {
      "cell_type": "markdown",
      "source": [
        "### **FUNCIÓN COSENO**"
      ],
      "metadata": {
        "id": "h5dPyvbZ4u8s"
      }
    },
    {
      "cell_type": "markdown",
      "source": [
        "Una función coseno tiene la forma:\n",
        "\n",
        "\\begin{equation}\n",
        "y = cos(x) \n",
        "\\end{equation}\n",
        "\n",
        "Teniendo así:\n",
        "\n",
        "\\begin{equation}\n",
        "Df=\\forall x\\in\\mathbb{R} \\, \\, \\, \\, \\, \\, \\, \\, \\, \\, \\, \\, \\wedge \\, \\, \\, \\, \\, \\, \\, \\, \\, \\, \\, \\, Rf=\\forall y\\in [-1, 1] \n",
        "\\end{equation}"
      ],
      "metadata": {
        "id": "Wh3n_7CO4u8y"
      }
    },
    {
      "cell_type": "markdown",
      "source": [
        "\n",
        "---"
      ],
      "metadata": {
        "id": "LLSda5O44u8y"
      }
    },
    {
      "cell_type": "markdown",
      "source": [
        "**EJEMPLO:** \n",
        "\n",
        "Programar la siguiente función:\n",
        "\n",
        "\\begin{equation}\n",
        "f(x) = cos(x)\n",
        "\\end{equation}"
      ],
      "metadata": {
        "id": "xjXZzHe34u8y"
      }
    },
    {
      "cell_type": "code",
      "source": [
        "# Definir función\n",
        "def cos_function (x):\n",
        "  y=np.cos(x)\n",
        "  return y\n",
        "\n",
        "f_cos= cos_function(x)\n",
        "f_cos"
      ],
      "metadata": {
        "id": "_mRBcSmq4u8y",
        "colab": {
          "base_uri": "https://localhost:8080/"
        },
        "outputId": "c479241c-a7dc-443b-b7f2-a66737d5c5cb"
      },
      "execution_count": 137,
      "outputs": [
        {
          "output_type": "execute_result",
          "data": {
            "text/plain": [
              "array([-8.39071529e-01, -8.49793970e-01, -8.60175824e-01, -8.70212930e-01,\n",
              "       -8.79901266e-01, -8.89236948e-01, -8.98216234e-01, -9.06835526e-01,\n",
              "       -9.15091370e-01, -9.22980456e-01, -9.30499623e-01, -9.37645857e-01,\n",
              "       -9.44416293e-01, -9.50808220e-01, -9.56819074e-01, -9.62446446e-01,\n",
              "       -9.67688082e-01, -9.72541880e-01, -9.77005895e-01, -9.81078338e-01,\n",
              "       -9.84757577e-01, -9.88042137e-01, -9.90930702e-01, -9.93422114e-01,\n",
              "       -9.95515375e-01, -9.97209644e-01, -9.98504245e-01, -9.99398657e-01,\n",
              "       -9.99892522e-01, -9.99985643e-01, -9.99677982e-01, -9.98969661e-01,\n",
              "       -9.97860966e-01, -9.96352341e-01, -9.94444389e-01, -9.92137877e-01,\n",
              "       -9.89433727e-01, -9.86333025e-01, -9.82837012e-01, -9.78947090e-01,\n",
              "       -9.74664818e-01, -9.69991913e-01, -9.64930246e-01, -9.59481847e-01,\n",
              "       -9.53648900e-01, -9.47433742e-01, -9.40838863e-01, -9.33866908e-01,\n",
              "       -9.26520671e-01, -9.18803095e-01, -9.10717274e-01, -9.02266449e-01,\n",
              "       -8.93454007e-01, -8.84283479e-01, -8.74758541e-01, -8.64883010e-01,\n",
              "       -8.54660845e-01, -8.44096142e-01, -8.33193136e-01, -8.21956196e-01,\n",
              "       -8.10389826e-01, -7.98498661e-01, -7.86287469e-01, -7.73761141e-01,\n",
              "       -7.60924700e-01, -7.47783289e-01, -7.34342176e-01, -7.20606748e-01,\n",
              "       -7.06582509e-01, -6.92275080e-01, -6.77690196e-01, -6.62833702e-01,\n",
              "       -6.47711552e-01, -6.32329808e-01, -6.16694633e-01, -6.00812295e-01,\n",
              "       -5.84689158e-01, -5.68331685e-01, -5.51746432e-01, -5.34940046e-01,\n",
              "       -5.17919262e-01, -5.00690902e-01, -4.83261871e-01, -4.65639155e-01,\n",
              "       -4.47829817e-01, -4.29840994e-01, -4.11679896e-01, -3.93353801e-01,\n",
              "       -3.74870055e-01, -3.56236066e-01, -3.37459301e-01, -3.18547287e-01,\n",
              "       -2.99507604e-01, -2.80347881e-01, -2.61075798e-01, -2.41699079e-01,\n",
              "       -2.22225490e-01, -2.02662836e-01, -1.83018957e-01, -1.63301726e-01,\n",
              "       -1.43519046e-01, -1.23678846e-01, -1.03789076e-01, -8.38577088e-02,\n",
              "       -6.38927325e-02, -4.39021489e-02, -2.38939697e-02, -3.87621418e-03,\n",
              "        1.61430949e-02,  3.61559340e-02,  5.61542823e-02,  7.61301246e-02,\n",
              "        9.60754549e-02,  1.15982279e-01,  1.35842619e-01,  1.55648516e-01,\n",
              "        1.75392030e-01,  1.95065249e-01,  2.14660288e-01,  2.34169294e-01,\n",
              "        2.53584448e-01,  2.72897968e-01,  2.92102114e-01,  3.11189189e-01,\n",
              "        3.30151544e-01,  3.48981577e-01,  3.67671743e-01,  3.86214551e-01,\n",
              "        4.04602569e-01,  4.22828426e-01,  4.40884820e-01,  4.58764512e-01,\n",
              "        4.76460337e-01,  4.93965202e-01,  5.11272092e-01,  5.28374071e-01,\n",
              "        5.45264283e-01,  5.61935960e-01,  5.78382421e-01,  5.94597072e-01,\n",
              "        6.10573417e-01,  6.26305051e-01,  6.41785669e-01,  6.57009068e-01,\n",
              "        6.71969145e-01,  6.86659906e-01,  7.01075461e-01,  7.15210034e-01,\n",
              "        7.29057959e-01,  7.42613687e-01,  7.55871785e-01,  7.68826938e-01,\n",
              "        7.81473955e-01,  7.93807766e-01,  8.05823429e-01,  8.17516128e-01,\n",
              "        8.28881176e-01,  8.39914019e-01,  8.50610235e-01,  8.60965536e-01,\n",
              "        8.70975773e-01,  8.80636933e-01,  8.89945145e-01,  8.98896678e-01,\n",
              "        9.07487943e-01,  9.15715499e-01,  9.23576047e-01,  9.31066437e-01,\n",
              "        9.38183667e-01,  9.44924885e-01,  9.51287388e-01,  9.57268626e-01,\n",
              "        9.62866203e-01,  9.68077875e-01,  9.72901553e-01,  9.77335304e-01,\n",
              "        9.81377351e-01,  9.85026074e-01,  9.88280011e-01,  9.91137856e-01,\n",
              "        9.93598466e-01,  9.95660854e-01,  9.97324193e-01,  9.98587817e-01,\n",
              "        9.99451218e-01,  9.99914052e-01,  9.99976133e-01,  9.99637435e-01,\n",
              "        9.98898095e-01,  9.97758408e-01,  9.96218833e-01,  9.94279984e-01,\n",
              "        9.91942641e-01,  9.89207739e-01,  9.86076374e-01,  9.82549803e-01,\n",
              "        9.78629437e-01,  9.74316848e-01,  9.69613765e-01,  9.64522073e-01,\n",
              "        9.59043812e-01,  9.53181178e-01,  9.46936521e-01,  9.40312343e-01,\n",
              "        9.33311299e-01,  9.25936195e-01,  9.18189988e-01,  9.10075781e-01,\n",
              "        9.01596827e-01,  8.92756523e-01,  8.83558414e-01,  8.74006186e-01,\n",
              "        8.64103666e-01,  8.53854824e-01,  8.43263768e-01,  8.32334742e-01,\n",
              "        8.21072126e-01,  8.09480434e-01,  7.97564313e-01,  7.85328537e-01,\n",
              "        7.72778011e-01,  7.59917766e-01,  7.46752954e-01,  7.33288853e-01,\n",
              "        7.19530859e-01,  7.05484486e-01,  6.91155363e-01,  6.76549233e-01,\n",
              "        6.61671951e-01,  6.46529479e-01,  6.31127885e-01,  6.15473343e-01,\n",
              "        5.99572127e-01,  5.83430610e-01,  5.67055261e-01,  5.50452643e-01,\n",
              "        5.33629410e-01,  5.16592305e-01,  4.99348156e-01,  4.81903875e-01,\n",
              "        4.64266452e-01,  4.46442957e-01,  4.28440534e-01,  4.10266396e-01,\n",
              "        3.91927829e-01,  3.73432181e-01,  3.54786867e-01,  3.35999358e-01,\n",
              "        3.17077185e-01,  2.98027932e-01,  2.78859232e-01,  2.59578769e-01,\n",
              "        2.40194270e-01,  2.20713504e-01,  2.01144278e-01,  1.81494437e-01,\n",
              "        1.61771855e-01,  1.41984436e-01,  1.22140112e-01,  1.02246836e-01,\n",
              "        8.23125803e-02,  6.23453348e-02,  4.23531021e-02,  2.23438947e-02,\n",
              "        2.32573223e-03, -1.76933624e-02, -3.77053657e-02, -5.77022572e-02,\n",
              "       -7.76760224e-02, -9.76186559e-02, -1.17522165e-01, -1.37378573e-01,\n",
              "       -1.57179921e-01, -1.76918273e-01, -1.96585719e-01, -2.16174375e-01,\n",
              "       -2.35676391e-01, -2.55083951e-01, -2.74389277e-01, -2.93584631e-01,\n",
              "       -3.12662319e-01, -3.31614697e-01, -3.50434167e-01, -3.69113187e-01,\n",
              "       -3.87644272e-01, -4.06019993e-01, -4.24232986e-01, -4.42275952e-01,\n",
              "       -4.60141660e-01, -4.77822948e-01, -4.95312730e-01, -5.12603997e-01,\n",
              "       -5.29689819e-01, -5.46563347e-01, -5.63217820e-01, -5.79646561e-01,\n",
              "       -5.95842988e-01, -6.11800607e-01, -6.27513025e-01, -6.42973943e-01,\n",
              "       -6.58177165e-01, -6.73116597e-01, -6.87786253e-01, -7.02180252e-01,\n",
              "       -7.16292826e-01, -7.30118318e-01, -7.43651188e-01, -7.56886012e-01,\n",
              "       -7.69817485e-01, -7.82440424e-01, -7.94749771e-01, -8.06740592e-01,\n",
              "       -8.18408081e-01, -8.29747562e-01, -8.40754490e-01, -8.51424454e-01,\n",
              "       -8.61753178e-01, -8.71736521e-01, -8.81370484e-01, -8.90651203e-01,\n",
              "       -8.99574960e-01, -9.08138179e-01, -9.16337427e-01, -9.24169418e-01,\n",
              "       -9.31631013e-01, -9.38719222e-01, -9.45431204e-01, -9.51764268e-01,\n",
              "       -9.57715877e-01, -9.63283645e-01, -9.68465341e-01, -9.73258887e-01,\n",
              "       -9.77662364e-01, -9.81674005e-01, -9.85292203e-01, -9.88515508e-01,\n",
              "       -9.91342628e-01, -9.93772430e-01, -9.95803940e-01, -9.97436344e-01,\n",
              "       -9.98668988e-01, -9.99501377e-01, -9.99933178e-01, -9.99964218e-01,\n",
              "       -9.99594485e-01, -9.98824127e-01, -9.97653452e-01, -9.96082929e-01,\n",
              "       -9.94113189e-01, -9.91745021e-01, -9.88979373e-01, -9.85817354e-01,\n",
              "       -9.82260231e-01, -9.78309431e-01, -9.73966536e-01, -9.69233287e-01,\n",
              "       -9.64111581e-01, -9.58603471e-01, -9.52711165e-01, -9.46437023e-01,\n",
              "       -9.39783561e-01, -9.32753446e-01, -9.25349494e-01, -9.17574673e-01,\n",
              "       -9.09432099e-01, -9.00925037e-01, -8.92056894e-01, -8.82831226e-01,\n",
              "       -8.73251730e-01, -8.63322245e-01, -8.53046751e-01, -8.42429367e-01,\n",
              "       -8.31474347e-01, -8.20186082e-01, -8.08569096e-01, -7.96628046e-01,\n",
              "       -7.84367718e-01, -7.71793024e-01, -7.58909005e-01, -7.45720824e-01,\n",
              "       -7.32233768e-01, -7.18453241e-01, -7.04384767e-01, -6.90033984e-01,\n",
              "       -6.75406644e-01, -6.60508609e-01, -6.45345851e-01, -6.29924445e-01,\n",
              "       -6.14250574e-01, -5.98330518e-01, -5.82170659e-01, -5.65777473e-01,\n",
              "       -5.49157530e-01, -5.32317492e-01, -5.15264107e-01, -4.98004210e-01,\n",
              "       -4.80544720e-01, -4.62892633e-01, -4.45055025e-01, -4.27039043e-01,\n",
              "       -4.08851910e-01, -3.90500914e-01, -3.71993410e-01, -3.53336815e-01,\n",
              "       -3.34538607e-01, -3.15606321e-01, -2.96547543e-01, -2.77369913e-01,\n",
              "       -2.58081116e-01, -2.38688883e-01, -2.19200987e-01, -1.99625237e-01,\n",
              "       -1.79969480e-01, -1.60241594e-01, -1.40449485e-01, -1.20601085e-01,\n",
              "       -1.00704350e-01, -8.07672539e-02, -6.07977872e-02, -4.08039535e-02,\n",
              "       -2.07937660e-02, -7.75244699e-04,  1.92435873e-02,  3.92547068e-02,\n",
              "        5.92500934e-02,  7.92217334e-02,  9.91616222e-02,  1.19061768e-01,\n",
              "        1.38914196e-01,  1.58710948e-01,  1.78444091e-01,  1.98105716e-01,\n",
              "        2.17687942e-01,  2.37182922e-01,  2.56582842e-01,  2.75879926e-01,\n",
              "        2.95066442e-01,  3.14134698e-01,  3.33077052e-01,  3.51885914e-01,\n",
              "        3.70553744e-01,  3.89073060e-01,  4.07436441e-01,  4.25636526e-01,\n",
              "        4.43666022e-01,  4.61517701e-01,  4.79184410e-01,  4.96659067e-01,\n",
              "        5.13934670e-01,  5.31004293e-01,  5.47861097e-01,  5.64498325e-01,\n",
              "        5.80909308e-01,  5.97087471e-01,  6.13026327e-01,  6.28719491e-01,\n",
              "        6.44160671e-01,  6.59343679e-01,  6.74262431e-01,  6.88910947e-01,\n",
              "        7.03283355e-01,  7.17373896e-01,  7.31176922e-01,  7.44686901e-01,\n",
              "        7.57898419e-01,  7.70806181e-01,  7.83405013e-01,  7.95689865e-01,\n",
              "        8.07655815e-01,  8.19298066e-01,  8.30611953e-01,  8.41592940e-01,\n",
              "        8.52236627e-01,  8.62538748e-01,  8.72495174e-01,  8.82101915e-01,\n",
              "        8.91355120e-01,  9.00251081e-01,  9.08786232e-01,  9.16957152e-01,\n",
              "        9.24760567e-01,  9.32193350e-01,  9.39252521e-01,  9.45935251e-01,\n",
              "        9.52238861e-01,  9.58160826e-01,  9.63698772e-01,  9.68850478e-01,\n",
              "        9.73613882e-01,  9.77987073e-01,  9.81968298e-01,  9.85555963e-01,\n",
              "        9.88748629e-01,  9.91545016e-01,  9.93944004e-01,  9.95944632e-01,\n",
              "        9.97546097e-01,  9.98747758e-01,  9.99549133e-01,  9.99949900e-01,\n",
              "        9.99949900e-01,  9.99549133e-01,  9.98747758e-01,  9.97546097e-01,\n",
              "        9.95944632e-01,  9.93944004e-01,  9.91545016e-01,  9.88748629e-01,\n",
              "        9.85555963e-01,  9.81968298e-01,  9.77987073e-01,  9.73613882e-01,\n",
              "        9.68850478e-01,  9.63698772e-01,  9.58160826e-01,  9.52238861e-01,\n",
              "        9.45935251e-01,  9.39252521e-01,  9.32193350e-01,  9.24760567e-01,\n",
              "        9.16957152e-01,  9.08786232e-01,  9.00251081e-01,  8.91355120e-01,\n",
              "        8.82101915e-01,  8.72495174e-01,  8.62538748e-01,  8.52236627e-01,\n",
              "        8.41592940e-01,  8.30611953e-01,  8.19298066e-01,  8.07655815e-01,\n",
              "        7.95689865e-01,  7.83405013e-01,  7.70806181e-01,  7.57898419e-01,\n",
              "        7.44686901e-01,  7.31176922e-01,  7.17373896e-01,  7.03283355e-01,\n",
              "        6.88910947e-01,  6.74262431e-01,  6.59343679e-01,  6.44160671e-01,\n",
              "        6.28719491e-01,  6.13026327e-01,  5.97087471e-01,  5.80909308e-01,\n",
              "        5.64498325e-01,  5.47861097e-01,  5.31004293e-01,  5.13934670e-01,\n",
              "        4.96659067e-01,  4.79184410e-01,  4.61517701e-01,  4.43666022e-01,\n",
              "        4.25636526e-01,  4.07436441e-01,  3.89073060e-01,  3.70553744e-01,\n",
              "        3.51885914e-01,  3.33077052e-01,  3.14134698e-01,  2.95066442e-01,\n",
              "        2.75879926e-01,  2.56582842e-01,  2.37182922e-01,  2.17687942e-01,\n",
              "        1.98105716e-01,  1.78444091e-01,  1.58710948e-01,  1.38914196e-01,\n",
              "        1.19061768e-01,  9.91616222e-02,  7.92217334e-02,  5.92500934e-02,\n",
              "        3.92547068e-02,  1.92435873e-02, -7.75244699e-04, -2.07937660e-02,\n",
              "       -4.08039535e-02, -6.07977872e-02, -8.07672539e-02, -1.00704350e-01,\n",
              "       -1.20601085e-01, -1.40449485e-01, -1.60241594e-01, -1.79969480e-01,\n",
              "       -1.99625237e-01, -2.19200987e-01, -2.38688883e-01, -2.58081116e-01,\n",
              "       -2.77369913e-01, -2.96547543e-01, -3.15606321e-01, -3.34538607e-01,\n",
              "       -3.53336815e-01, -3.71993410e-01, -3.90500914e-01, -4.08851910e-01,\n",
              "       -4.27039043e-01, -4.45055025e-01, -4.62892633e-01, -4.80544720e-01,\n",
              "       -4.98004210e-01, -5.15264107e-01, -5.32317492e-01, -5.49157530e-01,\n",
              "       -5.65777473e-01, -5.82170659e-01, -5.98330518e-01, -6.14250574e-01,\n",
              "       -6.29924445e-01, -6.45345851e-01, -6.60508609e-01, -6.75406644e-01,\n",
              "       -6.90033984e-01, -7.04384767e-01, -7.18453241e-01, -7.32233768e-01,\n",
              "       -7.45720824e-01, -7.58909005e-01, -7.71793024e-01, -7.84367718e-01,\n",
              "       -7.96628046e-01, -8.08569096e-01, -8.20186082e-01, -8.31474347e-01,\n",
              "       -8.42429367e-01, -8.53046751e-01, -8.63322245e-01, -8.73251730e-01,\n",
              "       -8.82831226e-01, -8.92056894e-01, -9.00925037e-01, -9.09432099e-01,\n",
              "       -9.17574673e-01, -9.25349494e-01, -9.32753446e-01, -9.39783561e-01,\n",
              "       -9.46437023e-01, -9.52711165e-01, -9.58603471e-01, -9.64111581e-01,\n",
              "       -9.69233287e-01, -9.73966536e-01, -9.78309431e-01, -9.82260231e-01,\n",
              "       -9.85817354e-01, -9.88979373e-01, -9.91745021e-01, -9.94113189e-01,\n",
              "       -9.96082929e-01, -9.97653452e-01, -9.98824127e-01, -9.99594485e-01,\n",
              "       -9.99964218e-01, -9.99933178e-01, -9.99501377e-01, -9.98668988e-01,\n",
              "       -9.97436344e-01, -9.95803940e-01, -9.93772430e-01, -9.91342628e-01,\n",
              "       -9.88515508e-01, -9.85292203e-01, -9.81674005e-01, -9.77662364e-01,\n",
              "       -9.73258887e-01, -9.68465341e-01, -9.63283645e-01, -9.57715877e-01,\n",
              "       -9.51764268e-01, -9.45431204e-01, -9.38719222e-01, -9.31631013e-01,\n",
              "       -9.24169418e-01, -9.16337427e-01, -9.08138179e-01, -8.99574960e-01,\n",
              "       -8.90651203e-01, -8.81370484e-01, -8.71736521e-01, -8.61753178e-01,\n",
              "       -8.51424454e-01, -8.40754490e-01, -8.29747562e-01, -8.18408081e-01,\n",
              "       -8.06740592e-01, -7.94749771e-01, -7.82440424e-01, -7.69817485e-01,\n",
              "       -7.56886012e-01, -7.43651188e-01, -7.30118318e-01, -7.16292826e-01,\n",
              "       -7.02180252e-01, -6.87786253e-01, -6.73116597e-01, -6.58177165e-01,\n",
              "       -6.42973943e-01, -6.27513025e-01, -6.11800607e-01, -5.95842988e-01,\n",
              "       -5.79646561e-01, -5.63217820e-01, -5.46563347e-01, -5.29689819e-01,\n",
              "       -5.12603997e-01, -4.95312730e-01, -4.77822948e-01, -4.60141660e-01,\n",
              "       -4.42275952e-01, -4.24232986e-01, -4.06019993e-01, -3.87644272e-01,\n",
              "       -3.69113187e-01, -3.50434167e-01, -3.31614697e-01, -3.12662319e-01,\n",
              "       -2.93584631e-01, -2.74389277e-01, -2.55083951e-01, -2.35676391e-01,\n",
              "       -2.16174375e-01, -1.96585719e-01, -1.76918273e-01, -1.57179921e-01,\n",
              "       -1.37378573e-01, -1.17522165e-01, -9.76186559e-02, -7.76760224e-02,\n",
              "       -5.77022572e-02, -3.77053657e-02, -1.76933624e-02,  2.32573223e-03,\n",
              "        2.23438947e-02,  4.23531021e-02,  6.23453348e-02,  8.23125803e-02,\n",
              "        1.02246836e-01,  1.22140112e-01,  1.41984436e-01,  1.61771855e-01,\n",
              "        1.81494437e-01,  2.01144278e-01,  2.20713504e-01,  2.40194270e-01,\n",
              "        2.59578769e-01,  2.78859232e-01,  2.98027932e-01,  3.17077185e-01,\n",
              "        3.35999358e-01,  3.54786867e-01,  3.73432181e-01,  3.91927829e-01,\n",
              "        4.10266396e-01,  4.28440534e-01,  4.46442957e-01,  4.64266452e-01,\n",
              "        4.81903875e-01,  4.99348156e-01,  5.16592305e-01,  5.33629410e-01,\n",
              "        5.50452643e-01,  5.67055261e-01,  5.83430610e-01,  5.99572127e-01,\n",
              "        6.15473343e-01,  6.31127885e-01,  6.46529479e-01,  6.61671951e-01,\n",
              "        6.76549233e-01,  6.91155363e-01,  7.05484486e-01,  7.19530859e-01,\n",
              "        7.33288853e-01,  7.46752954e-01,  7.59917766e-01,  7.72778011e-01,\n",
              "        7.85328537e-01,  7.97564313e-01,  8.09480434e-01,  8.21072126e-01,\n",
              "        8.32334742e-01,  8.43263768e-01,  8.53854824e-01,  8.64103666e-01,\n",
              "        8.74006186e-01,  8.83558414e-01,  8.92756523e-01,  9.01596827e-01,\n",
              "        9.10075781e-01,  9.18189988e-01,  9.25936195e-01,  9.33311299e-01,\n",
              "        9.40312343e-01,  9.46936521e-01,  9.53181178e-01,  9.59043812e-01,\n",
              "        9.64522073e-01,  9.69613765e-01,  9.74316848e-01,  9.78629437e-01,\n",
              "        9.82549803e-01,  9.86076374e-01,  9.89207739e-01,  9.91942641e-01,\n",
              "        9.94279984e-01,  9.96218833e-01,  9.97758408e-01,  9.98898095e-01,\n",
              "        9.99637435e-01,  9.99976133e-01,  9.99914052e-01,  9.99451218e-01,\n",
              "        9.98587817e-01,  9.97324193e-01,  9.95660854e-01,  9.93598466e-01,\n",
              "        9.91137856e-01,  9.88280011e-01,  9.85026074e-01,  9.81377351e-01,\n",
              "        9.77335304e-01,  9.72901553e-01,  9.68077875e-01,  9.62866203e-01,\n",
              "        9.57268626e-01,  9.51287388e-01,  9.44924885e-01,  9.38183667e-01,\n",
              "        9.31066437e-01,  9.23576047e-01,  9.15715499e-01,  9.07487943e-01,\n",
              "        8.98896678e-01,  8.89945145e-01,  8.80636933e-01,  8.70975773e-01,\n",
              "        8.60965536e-01,  8.50610235e-01,  8.39914019e-01,  8.28881176e-01,\n",
              "        8.17516128e-01,  8.05823429e-01,  7.93807766e-01,  7.81473955e-01,\n",
              "        7.68826938e-01,  7.55871785e-01,  7.42613687e-01,  7.29057959e-01,\n",
              "        7.15210034e-01,  7.01075461e-01,  6.86659906e-01,  6.71969145e-01,\n",
              "        6.57009068e-01,  6.41785669e-01,  6.26305051e-01,  6.10573417e-01,\n",
              "        5.94597072e-01,  5.78382421e-01,  5.61935960e-01,  5.45264283e-01,\n",
              "        5.28374071e-01,  5.11272092e-01,  4.93965202e-01,  4.76460337e-01,\n",
              "        4.58764512e-01,  4.40884820e-01,  4.22828426e-01,  4.04602569e-01,\n",
              "        3.86214551e-01,  3.67671743e-01,  3.48981577e-01,  3.30151544e-01,\n",
              "        3.11189189e-01,  2.92102114e-01,  2.72897968e-01,  2.53584448e-01,\n",
              "        2.34169294e-01,  2.14660288e-01,  1.95065249e-01,  1.75392030e-01,\n",
              "        1.55648516e-01,  1.35842619e-01,  1.15982279e-01,  9.60754549e-02,\n",
              "        7.61301246e-02,  5.61542823e-02,  3.61559340e-02,  1.61430949e-02,\n",
              "       -3.87621418e-03, -2.38939697e-02, -4.39021489e-02, -6.38927325e-02,\n",
              "       -8.38577088e-02, -1.03789076e-01, -1.23678846e-01, -1.43519046e-01,\n",
              "       -1.63301726e-01, -1.83018957e-01, -2.02662836e-01, -2.22225490e-01,\n",
              "       -2.41699079e-01, -2.61075798e-01, -2.80347881e-01, -2.99507604e-01,\n",
              "       -3.18547287e-01, -3.37459301e-01, -3.56236066e-01, -3.74870055e-01,\n",
              "       -3.93353801e-01, -4.11679896e-01, -4.29840994e-01, -4.47829817e-01,\n",
              "       -4.65639155e-01, -4.83261871e-01, -5.00690902e-01, -5.17919262e-01,\n",
              "       -5.34940046e-01, -5.51746432e-01, -5.68331685e-01, -5.84689158e-01,\n",
              "       -6.00812295e-01, -6.16694633e-01, -6.32329808e-01, -6.47711552e-01,\n",
              "       -6.62833702e-01, -6.77690196e-01, -6.92275080e-01, -7.06582509e-01,\n",
              "       -7.20606748e-01, -7.34342176e-01, -7.47783289e-01, -7.60924700e-01,\n",
              "       -7.73761141e-01, -7.86287469e-01, -7.98498661e-01, -8.10389826e-01,\n",
              "       -8.21956196e-01, -8.33193136e-01, -8.44096142e-01, -8.54660845e-01,\n",
              "       -8.64883010e-01, -8.74758541e-01, -8.84283479e-01, -8.93454007e-01,\n",
              "       -9.02266449e-01, -9.10717274e-01, -9.18803095e-01, -9.26520671e-01,\n",
              "       -9.33866908e-01, -9.40838863e-01, -9.47433742e-01, -9.53648900e-01,\n",
              "       -9.59481847e-01, -9.64930246e-01, -9.69991913e-01, -9.74664818e-01,\n",
              "       -9.78947090e-01, -9.82837012e-01, -9.86333025e-01, -9.89433727e-01,\n",
              "       -9.92137877e-01, -9.94444389e-01, -9.96352341e-01, -9.97860966e-01,\n",
              "       -9.98969661e-01, -9.99677982e-01, -9.99985643e-01, -9.99892522e-01,\n",
              "       -9.99398657e-01, -9.98504245e-01, -9.97209644e-01, -9.95515375e-01,\n",
              "       -9.93422114e-01, -9.90930702e-01, -9.88042137e-01, -9.84757577e-01,\n",
              "       -9.81078338e-01, -9.77005895e-01, -9.72541880e-01, -9.67688082e-01,\n",
              "       -9.62446446e-01, -9.56819074e-01, -9.50808220e-01, -9.44416293e-01,\n",
              "       -9.37645857e-01, -9.30499623e-01, -9.22980456e-01, -9.15091370e-01,\n",
              "       -9.06835526e-01, -8.98216234e-01, -8.89236948e-01, -8.79901266e-01,\n",
              "       -8.70212930e-01, -8.60175824e-01, -8.49793970e-01, -8.39071529e-01])"
            ]
          },
          "metadata": {},
          "execution_count": 137
        }
      ]
    },
    {
      "cell_type": "code",
      "source": [
        "# Usar función de visualización\n",
        "visualization_function(f_cos)"
      ],
      "metadata": {
        "id": "QFzQ0iIC4u8y",
        "colab": {
          "base_uri": "https://localhost:8080/",
          "height": 265
        },
        "outputId": "b5eee033-2b86-4d78-9dfb-57ea8b5e1d8f"
      },
      "execution_count": 138,
      "outputs": [
        {
          "output_type": "display_data",
          "data": {
            "text/plain": [
              "<Figure size 432x288 with 1 Axes>"
            ],
            "image/png": "[encoded data removed]"
          },
          "metadata": {
            "needs_background": "light"
          }
        }
      ]
    },
    {
      "cell_type": "markdown",
      "source": [
        "### **FUNCIÓN TANGENTE**"
      ],
      "metadata": {
        "id": "9ctN-2LA_FB0"
      }
    },
    {
      "cell_type": "markdown",
      "source": [
        "Una función tangente tiene la forma:\n",
        "\n",
        "\\begin{equation}\n",
        "y = tg(x)\\, \\, \\, \\, \\, \\, \\, \\, \\, \\, \\, \\, ; \\, \\, \\, \\, \\, \\, \\, \\, \\, \\, \\, \\, tg(x) = \\frac{sen(x)}{cos(x)}\\, \\, \\, \\, \\, \\, \\, \\, \\, \\, \\, \\, \\wedge \\, \\, \\, \\, \\, \\, \\, \\, \\, \\, \\, \\, cos(x) \\neq 0  \n",
        "\\end{equation}\n",
        "\n",
        "Teniendo así:\n",
        "\n",
        "\\begin{equation}\n",
        "Df=\\forall x\\in\\mathbb{R} - \\left \\{ (2k+1)\\frac{\\pi }{2} \\, \\, \\, \\, | \\, \\, \\, \\,k \\in \\mathbb{Z}\\right \\} \\, \\, \\, \\, \\, \\, \\, \\, \\, \\, \\, \\, \\wedge \\, \\, \\, \\, \\, \\, \\, \\, \\, \\, \\, \\, Rf=\\forall y\\in \\mathbb{R}\n",
        "\\end{equation}"
      ],
      "metadata": {
        "id": "QfVqD5py_FB8"
      }
    },
    {
      "cell_type": "markdown",
      "source": [
        "\n",
        "---"
      ],
      "metadata": {
        "id": "0aJ4TE6I_FB8"
      }
    },
    {
      "cell_type": "markdown",
      "source": [
        "**EJEMPLO:** \n",
        "\n",
        "Programar la siguiente función:\n",
        "\n",
        "\\begin{equation}\n",
        "f(x) = tg(x)\\, \\, \\, \\, \\, \\, \\, \\, \\, \\, \\, \\, ; \\, \\, \\, \\, \\, \\, \\, \\, \\, \\, \\, \\, Rf = [-5, 5] \n",
        "\\end{equation}"
      ],
      "metadata": {
        "id": "Xe37DE_z_FB8"
      }
    },
    {
      "cell_type": "markdown",
      "source": [
        "**NOTA:** Para el rango de la función, agregar la siguiente linea d código después de usar la función de visualización.\n",
        "\n",
        "```\n",
        "plt.ylim(-5, 5)\n",
        "```\n",
        "\n"
      ],
      "metadata": {
        "id": "hP4JNHr5HTb-"
      }
    },
    {
      "cell_type": "code",
      "source": [
        "# Definir función\n",
        "def tan_function(x):\n",
        "  y=np.tan(x)\n",
        "  return y\n",
        "f_tan= tan_function(x)\n",
        "f_tan"
      ],
      "metadata": {
        "id": "rcsVpwLh_FB9",
        "colab": {
          "base_uri": "https://localhost:8080/"
        },
        "outputId": "a0985c86-0674-4512-d361-9bd750f31fe1"
      },
      "execution_count": 139,
      "outputs": [
        {
          "output_type": "execute_result",
          "data": {
            "text/plain": [
              "array([-6.48360827e-01, -6.20285627e-01, -5.92899248e-01, -5.66155471e-01,\n",
              "       -5.40011231e-01, -5.14426312e-01, -4.89363079e-01, -4.64786237e-01,\n",
              "       -4.40662615e-01, -4.16960968e-01, -3.93651799e-01, -3.70707201e-01,\n",
              "       -3.48100708e-01, -3.25807165e-01, -3.03802602e-01, -2.82064126e-01,\n",
              "       -2.60569815e-01, -2.39298625e-01, -2.18230300e-01, -1.97345293e-01,\n",
              "       -1.76624686e-01, -1.56050119e-01, -1.35603724e-01, -1.15268059e-01,\n",
              "       -9.50260458e-02, -7.48609145e-02, -5.47561444e-02, -3.46954104e-02,\n",
              "       -1.46625293e-02,  5.35859264e-03,  2.53840113e-02,  4.54297964e-02,\n",
              "        6.55120831e-02,  8.56471240e-02,  1.05851342e-01,  1.26141385e-01,\n",
              "        1.46534180e-01,  1.67046993e-01,  1.87697485e-01,  2.08503781e-01,\n",
              "        2.29484530e-01,  2.50658978e-01,  2.72047042e-01,  2.93669388e-01,\n",
              "        3.15547519e-01,  3.37703865e-01,  3.60161881e-01,  3.82946159e-01,\n",
              "        4.06082538e-01,  4.29598239e-01,  4.53522001e-01,  4.77884235e-01,\n",
              "        5.02717195e-01,  5.28055163e-01,  5.53934658e-01,  5.80394664e-01,\n",
              "        6.07476888e-01,  6.35226044e-01,  6.63690173e-01,  6.92921002e-01,\n",
              "        7.22974349e-01,  7.53910574e-01,  7.85795099e-01,  8.18698988e-01,\n",
              "        8.52699613e-01,  8.87881413e-01,  9.24336762e-01,  9.62166968e-01,\n",
              "        1.00148342e+00,  1.04240891e+00,  1.08507920e+00,  1.12964479e+00,\n",
              "        1.17627306e+00,  1.22515070e+00,  1.27648666e+00,  1.33051560e+00,\n",
              "        1.38750206e+00,  1.44774534e+00,  1.51158552e+00,  1.57941068e+00,\n",
              "        1.65166575e+00,  1.72886334e+00,  1.81159719e+00,  1.90055897e+00,\n",
              "        1.99655936e+00,  2.10055489e+00,  2.21368234e+00,  2.33730341e+00,\n",
              "        2.47306327e+00,  2.62296853e+00,  2.78949229e+00,  2.97571823e+00,\n",
              "        3.18554154e+00,  3.42395478e+00,  3.69746377e+00,  4.01470811e+00,\n",
              "        4.38741432e+00,  4.83190996e+00,  5.37162598e+00,  6.04143137e+00,\n",
              "        6.89558341e+00,  8.02337937e+00,  9.58289031e+00,  1.18829593e+01,\n",
              "        1.56192533e+01,  2.27559667e+01,  4.18396152e+01,  2.57981742e+02,\n",
              "       -6.19379182e+01, -2.76398933e+01, -1.77799816e+01, -1.30972844e+01,\n",
              "       -1.03603366e+01, -8.56381931e+00, -7.29322235e+00, -6.34643060e+00,\n",
              "       -5.61313233e+00, -5.02801126e+00, -4.54992762e+00, -4.15167941e+00,\n",
              "       -3.81456063e+00, -3.52528452e+00, -3.27415342e+00, -3.05392351e+00,\n",
              "       -2.85907475e+00, -2.68532681e+00, -2.52930951e+00, -2.38833305e+00,\n",
              "       -2.26022447e+00, -2.14320916e+00, -2.03582353e+00, -1.93684966e+00,\n",
              "       -1.84526580e+00, -1.76020835e+00, -1.68094233e+00, -1.60683828e+00,\n",
              "       -1.53735394e+00, -1.47201959e+00, -1.41042627e+00, -1.35221626e+00,\n",
              "       -1.29707524e+00, -1.24472584e+00, -1.19492237e+00, -1.14744638e+00,\n",
              "       -1.10210290e+00, -1.05871741e+00, -1.01713315e+00, -9.77208864e-01,\n",
              "       -9.38816943e-01, -9.01841746e-01, -8.66178209e-01, -8.31730625e-01,\n",
              "       -7.98411592e-01, -7.66141095e-01, -7.34845713e-01, -7.04457912e-01,\n",
              "       -6.74915436e-01, -6.46160766e-01, -6.18140641e-01, -5.90805638e-01,\n",
              "       -5.64109794e-01, -5.38010274e-01, -5.12467071e-01, -4.87442739e-01,\n",
              "       -4.62902157e-01, -4.38812309e-01, -4.15142090e-01, -3.91862134e-01,\n",
              "       -3.68944649e-01, -3.46363276e-01, -3.24092955e-01, -3.02109805e-01,\n",
              "       -2.80391010e-01, -2.58914720e-01, -2.37659955e-01, -2.16606517e-01,\n",
              "       -1.95734911e-01, -1.75026263e-01, -1.54462256e-01, -1.34025054e-01,\n",
              "       -1.13697248e-01, -9.34617846e-02, -7.33019154e-02, -5.32011369e-02,\n",
              "       -3.31431367e-02, -1.31117404e-02,  6.90914084e-03,  2.69355622e-02,\n",
              "        4.69835967e-02,  6.70693865e-02,  8.72091958e-02,  1.07419463e-01,\n",
              "        1.27716855e-01,  1.48118323e-01,  1.68641162e-01,  1.89303068e-01,\n",
              "        2.10122201e-01,  2.31117256e-01,  2.52307527e-01,  2.73712986e-01,\n",
              "        2.95354363e-01,  3.17253227e-01,  3.39432084e-01,  3.61914475e-01,\n",
              "        3.84725082e-01,  4.07889847e-01,  4.31436105e-01,  4.55392716e-01,\n",
              "        4.79790229e-01,  5.04661048e-01,  5.30039621e-01,  5.55962649e-01,\n",
              "        5.82469317e-01,  6.09601555e-01,  6.37404322e-01,  6.65925931e-01,\n",
              "        6.95218413e-01,  7.25337918e-01,  7.56345181e-01,  7.88306037e-01,\n",
              "        8.21292014e-01,  8.55381005e-01,  8.90658030e-01,  9.27216117e-01,\n",
              "        9.65157310e-01,  1.00459383e+00,  1.04564943e+00,  1.08846092e+00,\n",
              "        1.13318005e+00,  1.17997559e+00,  1.22903585e+00,  1.28057163e+00,\n",
              "        1.33481976e+00,  1.39204728e+00,  1.45255640e+00,  1.51669067e+00,\n",
              "        1.58484223e+00,  1.65746082e+00,  1.73506482e+00,  1.81825492e+00,\n",
              "        1.90773117e+00,  2.00431451e+00,  2.10897408e+00,  2.22286235e+00,\n",
              "        2.34736066e+00,  2.48413910e+00,  2.63523623e+00,  2.80316671e+00,\n",
              "        2.99106899e+00,  3.20291170e+00,  3.44378769e+00,  3.72034255e+00,\n",
              "        4.04141548e+00,  4.41902588e+00,  4.86994526e+00,  5.41830366e+00,\n",
              "        6.10012284e+00,  6.97167180e+00,  8.12601896e+00,  9.72899601e+00,\n",
              "        1.21075850e+01,  1.60084895e+01,  2.35898354e+01,  4.47437815e+01,\n",
              "        4.29970949e+02, -5.65095225e+01, -2.65025648e+01, -1.73014694e+01,\n",
              "       -1.28350889e+01, -1.01950174e+01, -8.45006778e+00, -7.21013908e+00,\n",
              "       -6.28305434e+00, -5.56316501e+00, -4.98757819e+00, -4.51651483e+00,\n",
              "       -4.12358482e+00, -3.79059092e+00, -3.50457828e+00, -3.25607333e+00,\n",
              "       -3.03798791e+00, -2.84491285e+00, -2.67264855e+00, -2.51788471e+00,\n",
              "       -2.37797670e+00, -2.25078619e+00, -2.13456545e+00, -2.02787201e+00,\n",
              "       -1.92950474e+00, -1.83845537e+00, -1.75387122e+00, -1.67502624e+00,\n",
              "       -1.60129834e+00, -1.53215133e+00, -1.46712061e+00, -1.40580150e+00,\n",
              "       -1.34783989e+00, -1.29292454e+00, -1.24078072e+00, -1.19116499e+00,\n",
              "       -1.14386084e+00, -1.09867499e+00, -1.05543439e+00, -1.01398355e+00,\n",
              "       -9.74182337e-01, -9.35904125e-01, -8.99034138e-01, -8.63468080e-01,\n",
              "       -8.29110921e-01, -7.95875862e-01, -7.63683429e-01, -7.32460677e-01,\n",
              "       -7.02140504e-01, -6.72661039e-01, -6.43965108e-01, -6.15999763e-01,\n",
              "       -5.88715861e-01, -5.62067693e-01, -5.36012652e-01, -5.10510940e-01,\n",
              "       -4.85525300e-01, -4.61020780e-01, -4.36964519e-01, -4.13325552e-01,\n",
              "       -3.90074642e-01, -3.67184112e-01, -3.44627709e-01, -3.22380467e-01,\n",
              "       -3.00418592e-01, -2.78719347e-01, -2.57260953e-01, -2.36022492e-01,\n",
              "       -2.14983825e-01, -1.94125506e-01, -1.73428708e-01, -1.52875152e-01,\n",
              "       -1.32447041e-01, -1.12126991e-01, -9.18979767e-02, -7.17432707e-02,\n",
              "       -5.16463859e-02, -3.15910225e-02, -1.15610146e-02,  8.45972226e-03,\n",
              "        2.84872427e-02,  4.85376233e-02,  6.86270139e-02,  8.87716900e-02,\n",
              "        1.08988106e-01,  1.29292949e-01,  1.49703194e-01,  1.70236166e-01,\n",
              "        1.90909593e-01,  2.11741676e-01,  2.32751152e-01,  2.53957366e-01,\n",
              "        2.75380346e-01,  2.97040882e-01,  3.18960614e-01,  3.41162124e-01,\n",
              "        3.63669037e-01,  3.86506128e-01,  4.09699444e-01,  4.33276430e-01,\n",
              "        4.57266074e-01,  4.81699061e-01,  5.06607946e-01,  5.32027344e-01,\n",
              "        5.57994139e-01,  5.84547721e-01,  6.11730242e-01,  6.39586910e-01,\n",
              "        6.68166312e-01,  6.97520782e-01,  7.27706810e-01,  7.58785504e-01,\n",
              "        7.90823120e-01,  8.23891654e-01,  8.58069519e-01,  8.93442326e-01,\n",
              "        9.30103762e-01,  9.68156616e-01,  1.00771395e+00,  1.04890047e+00,\n",
              "        1.09185408e+00,  1.13672776e+00,  1.18369170e+00,  1.23293583e+00,\n",
              "        1.28467286e+00,  1.33914178e+00,  1.39661215e+00,  1.45738919e+00,\n",
              "        1.52181990e+00,  1.59030054e+00,  1.66328575e+00,  1.74129976e+00,\n",
              "        1.82495028e+00,  1.91494591e+00,  2.01211800e+00,  2.11744851e+00,\n",
              "        2.23210586e+00,  2.35749138e+00,  2.49530058e+00,  2.64760460e+00,\n",
              "        2.81696051e+00,  3.00656279e+00,  3.22045525e+00,  3.46383353e+00,\n",
              "        3.74348681e+00,  4.06845966e+00,  4.45107361e+00,  4.90855933e+00,\n",
              "        5.46577226e+00,  6.15993513e+00,  7.04942312e+00,  8.23127794e+00,\n",
              "        9.87957714e+00,  1.23408057e+01,  1.64175400e+01,  2.44870187e+01,\n",
              "        4.80809385e+01,  1.28991491e+03, -5.19557402e+01, -2.54550172e+01,\n",
              "       -1.68479594e+01, -1.25831256e+01, -1.00348433e+01, -8.33925839e+00,\n",
              "       -7.12889288e+00, -6.22090096e+00, -5.51405231e+00, -4.94776566e+00,\n",
              "       -4.48356676e+00, -4.09584720e+00, -3.76690131e+00, -3.48409585e+00,\n",
              "       -3.23817487e+00, -3.02220172e+00, -2.83087533e+00, -2.66007493e+00,\n",
              "       -2.50654876e+00, -2.36769644e+00, -2.24141356e+00, -2.12597877e+00,\n",
              "       -2.01997033e+00, -1.92220363e+00, -1.83168365e+00, -1.74756846e+00,\n",
              "       -1.66914080e+00, -1.59578583e+00, -1.52697339e+00, -1.46224387e+00,\n",
              "       -1.40119684e+00, -1.34348178e+00, -1.28879046e+00, -1.23685075e+00,\n",
              "       -1.18742147e+00, -1.14028799e+00, -1.09525874e+00, -1.05216210e+00,\n",
              "       -1.01084384e+00, -9.71164940e-01, -9.32999748e-01, -8.96234347e-01,\n",
              "       -8.60765197e-01, -8.26497943e-01, -7.93346384e-01, -7.61231576e-01,\n",
              "       -7.30081053e-01, -6.99828137e-01, -6.70411339e-01, -6.41773830e-01,\n",
              "       -6.13862971e-01, -5.86629895e-01, -5.60029147e-01, -5.34018348e-01,\n",
              "       -5.08557904e-01, -4.83610746e-01, -4.59142091e-01, -4.35119230e-01,\n",
              "       -4.11511342e-01, -3.88289311e-01, -3.65425579e-01, -3.42893995e-01,\n",
              "       -3.20669690e-01, -2.98728955e-01, -2.77049129e-01, -2.55608505e-01,\n",
              "       -2.34386228e-01, -2.13362214e-01, -1.92517070e-01, -1.71832012e-01,\n",
              "       -1.51288801e-01, -1.30869675e-01, -1.10557279e-01, -9.03346144e-02,\n",
              "       -7.01849728e-02, -5.00918839e-02, -3.00390603e-02, -1.00103444e-02,\n",
              "        1.00103444e-02,  3.00390603e-02,  5.00918839e-02,  7.01849728e-02,\n",
              "        9.03346144e-02,  1.10557279e-01,  1.30869675e-01,  1.51288801e-01,\n",
              "        1.71832012e-01,  1.92517070e-01,  2.13362214e-01,  2.34386228e-01,\n",
              "        2.55608505e-01,  2.77049129e-01,  2.98728955e-01,  3.20669690e-01,\n",
              "        3.42893995e-01,  3.65425579e-01,  3.88289311e-01,  4.11511342e-01,\n",
              "        4.35119230e-01,  4.59142091e-01,  4.83610746e-01,  5.08557904e-01,\n",
              "        5.34018348e-01,  5.60029147e-01,  5.86629895e-01,  6.13862971e-01,\n",
              "        6.41773830e-01,  6.70411339e-01,  6.99828137e-01,  7.30081053e-01,\n",
              "        7.61231576e-01,  7.93346384e-01,  8.26497943e-01,  8.60765197e-01,\n",
              "        8.96234347e-01,  9.32999748e-01,  9.71164940e-01,  1.01084384e+00,\n",
              "        1.05216210e+00,  1.09525874e+00,  1.14028799e+00,  1.18742147e+00,\n",
              "        1.23685075e+00,  1.28879046e+00,  1.34348178e+00,  1.40119684e+00,\n",
              "        1.46224387e+00,  1.52697339e+00,  1.59578583e+00,  1.66914080e+00,\n",
              "        1.74756846e+00,  1.83168365e+00,  1.92220363e+00,  2.01997033e+00,\n",
              "        2.12597877e+00,  2.24141356e+00,  2.36769644e+00,  2.50654876e+00,\n",
              "        2.66007493e+00,  2.83087533e+00,  3.02220172e+00,  3.23817487e+00,\n",
              "        3.48409585e+00,  3.76690131e+00,  4.09584720e+00,  4.48356676e+00,\n",
              "        4.94776566e+00,  5.51405231e+00,  6.22090096e+00,  7.12889288e+00,\n",
              "        8.33925839e+00,  1.00348433e+01,  1.25831256e+01,  1.68479594e+01,\n",
              "        2.54550172e+01,  5.19557402e+01, -1.28991491e+03, -4.80809385e+01,\n",
              "       -2.44870187e+01, -1.64175400e+01, -1.23408057e+01, -9.87957714e+00,\n",
              "       -8.23127794e+00, -7.04942312e+00, -6.15993513e+00, -5.46577226e+00,\n",
              "       -4.90855933e+00, -4.45107361e+00, -4.06845966e+00, -3.74348681e+00,\n",
              "       -3.46383353e+00, -3.22045525e+00, -3.00656279e+00, -2.81696051e+00,\n",
              "       -2.64760460e+00, -2.49530058e+00, -2.35749138e+00, -2.23210586e+00,\n",
              "       -2.11744851e+00, -2.01211800e+00, -1.91494591e+00, -1.82495028e+00,\n",
              "       -1.74129976e+00, -1.66328575e+00, -1.59030054e+00, -1.52181990e+00,\n",
              "       -1.45738919e+00, -1.39661215e+00, -1.33914178e+00, -1.28467286e+00,\n",
              "       -1.23293583e+00, -1.18369170e+00, -1.13672776e+00, -1.09185408e+00,\n",
              "       -1.04890047e+00, -1.00771395e+00, -9.68156616e-01, -9.30103762e-01,\n",
              "       -8.93442326e-01, -8.58069519e-01, -8.23891654e-01, -7.90823120e-01,\n",
              "       -7.58785504e-01, -7.27706810e-01, -6.97520782e-01, -6.68166312e-01,\n",
              "       -6.39586910e-01, -6.11730242e-01, -5.84547721e-01, -5.57994139e-01,\n",
              "       -5.32027344e-01, -5.06607946e-01, -4.81699061e-01, -4.57266074e-01,\n",
              "       -4.33276430e-01, -4.09699444e-01, -3.86506128e-01, -3.63669037e-01,\n",
              "       -3.41162124e-01, -3.18960614e-01, -2.97040882e-01, -2.75380346e-01,\n",
              "       -2.53957366e-01, -2.32751152e-01, -2.11741676e-01, -1.90909593e-01,\n",
              "       -1.70236166e-01, -1.49703194e-01, -1.29292949e-01, -1.08988106e-01,\n",
              "       -8.87716900e-02, -6.86270139e-02, -4.85376233e-02, -2.84872427e-02,\n",
              "       -8.45972226e-03,  1.15610146e-02,  3.15910225e-02,  5.16463859e-02,\n",
              "        7.17432707e-02,  9.18979767e-02,  1.12126991e-01,  1.32447041e-01,\n",
              "        1.52875152e-01,  1.73428708e-01,  1.94125506e-01,  2.14983825e-01,\n",
              "        2.36022492e-01,  2.57260953e-01,  2.78719347e-01,  3.00418592e-01,\n",
              "        3.22380467e-01,  3.44627709e-01,  3.67184112e-01,  3.90074642e-01,\n",
              "        4.13325552e-01,  4.36964519e-01,  4.61020780e-01,  4.85525300e-01,\n",
              "        5.10510940e-01,  5.36012652e-01,  5.62067693e-01,  5.88715861e-01,\n",
              "        6.15999763e-01,  6.43965108e-01,  6.72661039e-01,  7.02140504e-01,\n",
              "        7.32460677e-01,  7.63683429e-01,  7.95875862e-01,  8.29110921e-01,\n",
              "        8.63468080e-01,  8.99034138e-01,  9.35904125e-01,  9.74182337e-01,\n",
              "        1.01398355e+00,  1.05543439e+00,  1.09867499e+00,  1.14386084e+00,\n",
              "        1.19116499e+00,  1.24078072e+00,  1.29292454e+00,  1.34783989e+00,\n",
              "        1.40580150e+00,  1.46712061e+00,  1.53215133e+00,  1.60129834e+00,\n",
              "        1.67502624e+00,  1.75387122e+00,  1.83845537e+00,  1.92950474e+00,\n",
              "        2.02787201e+00,  2.13456545e+00,  2.25078619e+00,  2.37797670e+00,\n",
              "        2.51788471e+00,  2.67264855e+00,  2.84491285e+00,  3.03798791e+00,\n",
              "        3.25607333e+00,  3.50457828e+00,  3.79059092e+00,  4.12358482e+00,\n",
              "        4.51651483e+00,  4.98757819e+00,  5.56316501e+00,  6.28305434e+00,\n",
              "        7.21013908e+00,  8.45006778e+00,  1.01950174e+01,  1.28350889e+01,\n",
              "        1.73014694e+01,  2.65025648e+01,  5.65095225e+01, -4.29970949e+02,\n",
              "       -4.47437815e+01, -2.35898354e+01, -1.60084895e+01, -1.21075850e+01,\n",
              "       -9.72899601e+00, -8.12601896e+00, -6.97167180e+00, -6.10012284e+00,\n",
              "       -5.41830366e+00, -4.86994526e+00, -4.41902588e+00, -4.04141548e+00,\n",
              "       -3.72034255e+00, -3.44378769e+00, -3.20291170e+00, -2.99106899e+00,\n",
              "       -2.80316671e+00, -2.63523623e+00, -2.48413910e+00, -2.34736066e+00,\n",
              "       -2.22286235e+00, -2.10897408e+00, -2.00431451e+00, -1.90773117e+00,\n",
              "       -1.81825492e+00, -1.73506482e+00, -1.65746082e+00, -1.58484223e+00,\n",
              "       -1.51669067e+00, -1.45255640e+00, -1.39204728e+00, -1.33481976e+00,\n",
              "       -1.28057163e+00, -1.22903585e+00, -1.17997559e+00, -1.13318005e+00,\n",
              "       -1.08846092e+00, -1.04564943e+00, -1.00459383e+00, -9.65157310e-01,\n",
              "       -9.27216117e-01, -8.90658030e-01, -8.55381005e-01, -8.21292014e-01,\n",
              "       -7.88306037e-01, -7.56345181e-01, -7.25337918e-01, -6.95218413e-01,\n",
              "       -6.65925931e-01, -6.37404322e-01, -6.09601555e-01, -5.82469317e-01,\n",
              "       -5.55962649e-01, -5.30039621e-01, -5.04661048e-01, -4.79790229e-01,\n",
              "       -4.55392716e-01, -4.31436105e-01, -4.07889847e-01, -3.84725082e-01,\n",
              "       -3.61914475e-01, -3.39432084e-01, -3.17253227e-01, -2.95354363e-01,\n",
              "       -2.73712986e-01, -2.52307527e-01, -2.31117256e-01, -2.10122201e-01,\n",
              "       -1.89303068e-01, -1.68641162e-01, -1.48118323e-01, -1.27716855e-01,\n",
              "       -1.07419463e-01, -8.72091958e-02, -6.70693865e-02, -4.69835967e-02,\n",
              "       -2.69355622e-02, -6.90914084e-03,  1.31117404e-02,  3.31431367e-02,\n",
              "        5.32011369e-02,  7.33019154e-02,  9.34617846e-02,  1.13697248e-01,\n",
              "        1.34025054e-01,  1.54462256e-01,  1.75026263e-01,  1.95734911e-01,\n",
              "        2.16606517e-01,  2.37659955e-01,  2.58914720e-01,  2.80391010e-01,\n",
              "        3.02109805e-01,  3.24092955e-01,  3.46363276e-01,  3.68944649e-01,\n",
              "        3.91862134e-01,  4.15142090e-01,  4.38812309e-01,  4.62902157e-01,\n",
              "        4.87442739e-01,  5.12467071e-01,  5.38010274e-01,  5.64109794e-01,\n",
              "        5.90805638e-01,  6.18140641e-01,  6.46160766e-01,  6.74915436e-01,\n",
              "        7.04457912e-01,  7.34845713e-01,  7.66141095e-01,  7.98411592e-01,\n",
              "        8.31730625e-01,  8.66178209e-01,  9.01841746e-01,  9.38816943e-01,\n",
              "        9.77208864e-01,  1.01713315e+00,  1.05871741e+00,  1.10210290e+00,\n",
              "        1.14744638e+00,  1.19492237e+00,  1.24472584e+00,  1.29707524e+00,\n",
              "        1.35221626e+00,  1.41042627e+00,  1.47201959e+00,  1.53735394e+00,\n",
              "        1.60683828e+00,  1.68094233e+00,  1.76020835e+00,  1.84526580e+00,\n",
              "        1.93684966e+00,  2.03582353e+00,  2.14320916e+00,  2.26022447e+00,\n",
              "        2.38833305e+00,  2.52930951e+00,  2.68532681e+00,  2.85907475e+00,\n",
              "        3.05392351e+00,  3.27415342e+00,  3.52528452e+00,  3.81456063e+00,\n",
              "        4.15167941e+00,  4.54992762e+00,  5.02801126e+00,  5.61313233e+00,\n",
              "        6.34643060e+00,  7.29322235e+00,  8.56381931e+00,  1.03603366e+01,\n",
              "        1.30972844e+01,  1.77799816e+01,  2.76398933e+01,  6.19379182e+01,\n",
              "       -2.57981742e+02, -4.18396152e+01, -2.27559667e+01, -1.56192533e+01,\n",
              "       -1.18829593e+01, -9.58289031e+00, -8.02337937e+00, -6.89558341e+00,\n",
              "       -6.04143137e+00, -5.37162598e+00, -4.83190996e+00, -4.38741432e+00,\n",
              "       -4.01470811e+00, -3.69746377e+00, -3.42395478e+00, -3.18554154e+00,\n",
              "       -2.97571823e+00, -2.78949229e+00, -2.62296853e+00, -2.47306327e+00,\n",
              "       -2.33730341e+00, -2.21368234e+00, -2.10055489e+00, -1.99655936e+00,\n",
              "       -1.90055897e+00, -1.81159719e+00, -1.72886334e+00, -1.65166575e+00,\n",
              "       -1.57941068e+00, -1.51158552e+00, -1.44774534e+00, -1.38750206e+00,\n",
              "       -1.33051560e+00, -1.27648666e+00, -1.22515070e+00, -1.17627306e+00,\n",
              "       -1.12964479e+00, -1.08507920e+00, -1.04240891e+00, -1.00148342e+00,\n",
              "       -9.62166968e-01, -9.24336762e-01, -8.87881413e-01, -8.52699613e-01,\n",
              "       -8.18698988e-01, -7.85795099e-01, -7.53910574e-01, -7.22974349e-01,\n",
              "       -6.92921002e-01, -6.63690173e-01, -6.35226044e-01, -6.07476888e-01,\n",
              "       -5.80394664e-01, -5.53934658e-01, -5.28055163e-01, -5.02717195e-01,\n",
              "       -4.77884235e-01, -4.53522001e-01, -4.29598239e-01, -4.06082538e-01,\n",
              "       -3.82946159e-01, -3.60161881e-01, -3.37703865e-01, -3.15547519e-01,\n",
              "       -2.93669388e-01, -2.72047042e-01, -2.50658978e-01, -2.29484530e-01,\n",
              "       -2.08503781e-01, -1.87697485e-01, -1.67046993e-01, -1.46534180e-01,\n",
              "       -1.26141385e-01, -1.05851342e-01, -8.56471240e-02, -6.55120831e-02,\n",
              "       -4.54297964e-02, -2.53840113e-02, -5.35859264e-03,  1.46625293e-02,\n",
              "        3.46954104e-02,  5.47561444e-02,  7.48609145e-02,  9.50260458e-02,\n",
              "        1.15268059e-01,  1.35603724e-01,  1.56050119e-01,  1.76624686e-01,\n",
              "        1.97345293e-01,  2.18230300e-01,  2.39298625e-01,  2.60569815e-01,\n",
              "        2.82064126e-01,  3.03802602e-01,  3.25807165e-01,  3.48100708e-01,\n",
              "        3.70707201e-01,  3.93651799e-01,  4.16960968e-01,  4.40662615e-01,\n",
              "        4.64786237e-01,  4.89363079e-01,  5.14426312e-01,  5.40011231e-01,\n",
              "        5.66155471e-01,  5.92899248e-01,  6.20285627e-01,  6.48360827e-01])"
            ]
          },
          "metadata": {},
          "execution_count": 139
        }
      ]
    },
    {
      "cell_type": "code",
      "source": [
        "# Usar función de visualización\n",
        "visualization_function(f_tan)\n",
        "plt.ylim(-5, 5)"
      ],
      "metadata": {
        "id": "BV-62teWPW03",
        "colab": {
          "base_uri": "https://localhost:8080/",
          "height": 282
        },
        "outputId": "8b47eec9-8518-4bdc-b04e-b104c9917a72"
      },
      "execution_count": 140,
      "outputs": [
        {
          "output_type": "execute_result",
          "data": {
            "text/plain": [
              "(-5.0, 5.0)"
            ]
          },
          "metadata": {},
          "execution_count": 140
        },
        {
          "output_type": "display_data",
          "data": {
            "text/plain": [
              "<Figure size 432x288 with 1 Axes>"
            ],
            "image/png": "[encoded data removed]"
          },
          "metadata": {
            "needs_background": "light"
          }
        }
      ]
    },
    {
      "cell_type": "markdown",
      "source": [
        "## **ACTIVIDAD 2:** EJERCICIOS DE FUNCIONES Y SUS DERIVADAS."
      ],
      "metadata": {
        "id": "DncxyPgLtKTm"
      }
    },
    {
      "cell_type": "markdown",
      "source": [
        "Una vez conocido la defincición de las funciones primordiales y sus propiedades, se presentan las siguientes funciones y se solicita determinar sus derivadas. \n",
        "\n",
        "Realice su código de tal forma que obedezca la definición de la misma, determine su gráfico y utilice el número de 1000 muestras utilizado anteriormente para una mejor visualización del mismo."
      ],
      "metadata": {
        "id": "DpFVhE1KGOTi"
      }
    },
    {
      "cell_type": "code",
      "source": [
        "# Definir la derivada de una función\n",
        "x = np.linspace(-10.0, 10.0, num = 1000)\n",
        "\n",
        "def derivate_function(y):\n",
        "  dy = np.diff(y)/np.diff(x)\n",
        "  return dy"
      ],
      "metadata": {
        "id": "pqazRqNIVi2-"
      },
      "execution_count": 141,
      "outputs": []
    },
    {
      "cell_type": "code",
      "source": [
        "# Definir función de visualización\n",
        "def visualization_derivative_function(y, dy):\n",
        "  plt.plot(x, y, color = 'purple', label = 'Función original')\n",
        "  plt.plot(x[1:], dy, color = 'green', label = 'Derivada')\n",
        "  plt.axhline(y = 0, color = 'r')\n",
        "  plt.axvline(x = 0, color = 'r')\n",
        "  plt.legend(loc = 'upper left')\n",
        "  plt.grid()\n"
      ],
      "metadata": {
        "id": "UimLHpS8mVKx"
      },
      "execution_count": 142,
      "outputs": []
    },
    {
      "cell_type": "markdown",
      "source": [
        "### **EJERCICIO 1:**"
      ],
      "metadata": {
        "id": "6Ag0uB6lO2Dk"
      }
    },
    {
      "cell_type": "markdown",
      "source": [
        "Programar la siguiente función:\n",
        "\n",
        "\\begin{equation}\n",
        "y = -3x + 2\\, \\, \\, \\, \\, \\, \\, \\, \\, \\, \\, \\, \\Rightarrow\\, \\, \\, \\, \\, \\, \\, \\, \\, \\, \\, \\, y' = -3\n",
        "\\end{equation}"
      ],
      "metadata": {
        "id": "3Iz2QtYttjxH"
      }
    },
    {
      "cell_type": "code",
      "source": [
        "# Definir función\n",
        "def lineal_function(x):\n",
        "  A=1\n",
        "  B=2\n",
        "  y =A*x + B\n",
        "  return y\n",
        "\n",
        "f_lineal = lineal_function(x)\n",
        "dy_lineal = derivate_function(f_lineal)\n",
        "  "
      ],
      "metadata": {
        "id": "VXKsHtqBnBsN"
      },
      "execution_count": 143,
      "outputs": []
    },
    {
      "cell_type": "code",
      "source": [
        "# Usar función de derivación y visualización\n",
        "visualization_derivative_function(f_lineal, dy_lineal)"
      ],
      "metadata": {
        "id": "bug435LjSiV7",
        "colab": {
          "base_uri": "https://localhost:8080/",
          "height": 265
        },
        "outputId": "2180e3d6-bec8-4a52-caf1-dd1ea5642135"
      },
      "execution_count": 144,
      "outputs": [
        {
          "output_type": "display_data",
          "data": {
            "text/plain": [
              "<Figure size 432x288 with 1 Axes>"
            ],
            "image/png": "[encoded data removed]"
          },
          "metadata": {
            "needs_background": "light"
          }
        }
      ]
    },
    {
      "cell_type": "markdown",
      "source": [
        "### **EJERCICIO 2:**"
      ],
      "metadata": {
        "id": "c8Qj9UnvPPeE"
      }
    },
    {
      "cell_type": "markdown",
      "source": [
        "Programar la siguiente función:\n",
        "\n",
        "\\begin{equation}\n",
        "f(x) = -x^2 + 9\\, \\, \\, \\, \\, \\, \\, \\, \\, \\, \\, \\, \\Rightarrow\\, \\, \\, \\, \\, \\, \\, \\, \\, \\, \\, \\, f'(x) = -2x\n",
        "\\end{equation}"
      ],
      "metadata": {
        "id": "LyzP28hjvPKD"
      }
    },
    {
      "cell_type": "code",
      "source": [
        "# Definir función\n",
        "def linea_function (x):\n",
        "  A=-1\n",
        "  B= 9\n",
        "  y= A*(x**2) + B\n",
        "  return y\n",
        "\n",
        "f_linea = linea_function(x)\n",
        "dy_linea = derivate_function(f_linea)"
      ],
      "metadata": {
        "id": "N_IoW-OSYxpB"
      },
      "execution_count": 145,
      "outputs": []
    },
    {
      "cell_type": "code",
      "source": [
        "# Usar función de visualización\n",
        "visualization_derivative_function(f_linea, dy_linea)"
      ],
      "metadata": {
        "id": "YTsfJnXxemzZ",
        "colab": {
          "base_uri": "https://localhost:8080/",
          "height": 265
        },
        "outputId": "e0a4cadc-1713-49c0-82d7-7323d40e3376"
      },
      "execution_count": 146,
      "outputs": [
        {
          "output_type": "display_data",
          "data": {
            "text/plain": [
              "<Figure size 432x288 with 1 Axes>"
            ],
            "image/png": "[encoded data removed]"
          },
          "metadata": {
            "needs_background": "light"
          }
        }
      ]
    },
    {
      "cell_type": "markdown",
      "source": [
        "### **EJERCICIO 3:**"
      ],
      "metadata": {
        "id": "zZLGg7esPLuO"
      }
    },
    {
      "cell_type": "markdown",
      "source": [
        "Programar la siguiente función:\n",
        "\n",
        "\\begin{equation}\n",
        "y = x^3 - 27\\, \\, \\, \\, \\, \\, \\, \\, \\, \\, \\, \\, \\Rightarrow\\, \\, \\, \\, \\, \\, \\, \\, \\, \\, \\, \\, y' = 3x^2\n",
        "\\end{equation}\n"
      ],
      "metadata": {
        "id": "c0Wul1FivPWG"
      }
    },
    {
      "cell_type": "code",
      "source": [
        "# Definir función cúbica\n",
        "def cub_function (x):\n",
        "  A=1\n",
        "  B= -27\n",
        "  y= A*(x**3) + B\n",
        "  return y\n",
        "\n",
        "\n",
        "f_cub = cub_function(x)\n",
        "dy_cub = derivate_function(f_cub)\n",
        "\n",
        "\n"
      ],
      "metadata": {
        "id": "tPFtjPEIZvCC"
      },
      "execution_count": 147,
      "outputs": []
    },
    {
      "cell_type": "code",
      "source": [
        "# Usar función de visualización\n",
        "visualization_derivative_function(f_cub, dy_cub)"
      ],
      "metadata": {
        "id": "_iuczQbve18P",
        "colab": {
          "base_uri": "https://localhost:8080/",
          "height": 265
        },
        "outputId": "425f6547-155b-42aa-bdb9-f06953ee6088"
      },
      "execution_count": 148,
      "outputs": [
        {
          "output_type": "display_data",
          "data": {
            "text/plain": [
              "<Figure size 432x288 with 1 Axes>"
            ],
            "image/png": "[encoded data removed]"
          },
          "metadata": {
            "needs_background": "light"
          }
        }
      ]
    },
    {
      "cell_type": "markdown",
      "source": [
        "### **EJERCICIO 4:**"
      ],
      "metadata": {
        "id": "LWqdR7snPb2e"
      }
    },
    {
      "cell_type": "markdown",
      "source": [
        "Dada las funciones:\n",
        "\n",
        "\\begin{equation}\n",
        "f(x) = cos(x) \\, \\, \\, \\, \\, \\, \\, \\, \\, \\, \\, \\, \\wedge \\, \\, \\, \\, \\, \\, \\, \\, \\, \\, \\, \\, g(x) = \\frac{1}{x + 2} \\, \\, \\, \\, \\, \\, \\, \\, \\, \\, \\, \\, ; \\, \\, \\, \\, \\, \\, \\, \\, \\, \\, \\, \\, x \\neq 0\\, \\, \\, \\, \\, \\, \\, \\, \\, \\, \\, \\, \\wedge \\, \\, \\, \\, \\, \\, \\, \\, \\, \\, \\, \\, Rf = [-5, 5] \n",
        "\\end{equation}\n",
        "\n",
        "Programar la siguiente función composición:\n",
        "\n",
        "\\begin{equation}\n",
        "(f \\circ g)(x)= f(g(x)) = cos(\\frac{1}{x + 2})\\, \\, \\, \\, \\, \\, \\, \\, \\, \\, \\, \\, \\Rightarrow\\, \\, \\, \\, \\, \\, \\, \\, \\, \\, \\, \\, f'(g(x)) = \\frac{sin(\\frac{1}{x + 2})}{x^2 + 4x + 4}\n",
        "\\end{equation}"
      ],
      "metadata": {
        "id": "yHK8LNtfvPgs"
      }
    },
    {
      "cell_type": "code",
      "source": [
        "from numpy.lib import function_base\n",
        "# Definir función\n",
        "\n",
        "fog = lineal_function(cos_function(x))\n",
        "dy_fog = derivate_function(fog)"
      ],
      "metadata": {
        "id": "SFhpY0TIfPcL"
      },
      "execution_count": 149,
      "outputs": []
    },
    {
      "cell_type": "code",
      "source": [
        "# Usar función de visualización\n",
        "visualization_derivative_function(fog, dy_fog)"
      ],
      "metadata": {
        "id": "qi5nbiGEj600",
        "colab": {
          "base_uri": "https://localhost:8080/",
          "height": 265
        },
        "outputId": "31d26856-24e8-4d08-e770-b31f947a84ed"
      },
      "execution_count": 150,
      "outputs": [
        {
          "output_type": "display_data",
          "data": {
            "text/plain": [
              "<Figure size 432x288 with 1 Axes>"
            ],
            "image/png": "[encoded data removed]"
          },
          "metadata": {
            "needs_background": "light"
          }
        }
      ]
    },
    {
      "cell_type": "markdown",
      "source": [
        "### **EJERCICIO 5:**"
      ],
      "metadata": {
        "id": "qGPKFb6KPfWb"
      }
    },
    {
      "cell_type": "markdown",
      "source": [
        "Dadas las funciones:\n",
        "\n",
        "\\begin{equation}\n",
        "f(x) = tg(x) \\, \\, \\, \\, \\, \\, \\, \\, \\, \\, \\, \\, \\wedge \\, \\, \\, \\, \\, \\, \\, \\, \\, \\, \\, \\, g(x) = x^2 - 1\\, \\, \\, \\, \\, \\, \\, \\, \\, \\, \\, \\, ; \\, \\, \\, \\, \\, \\, \\, \\, \\, \\, \\, \\, Rf = [-5, 5]  \n",
        "\\end{equation}\n",
        "\n",
        "Programar la siguiente función composición:\n",
        "\n",
        "\\begin{equation}\n",
        "(g \\circ f)(x)= g(f(x)) = tg^2(x) - 1 \\, \\, \\, \\, \\, \\, \\, \\, \\, \\, \\, \\, \\Rightarrow\\, \\, \\, \\, \\, \\, \\, \\, \\, \\, \\, \\, g'(f(x)) = 2tg(x)sec^2(x)\n",
        "\\end{equation}"
      ],
      "metadata": {
        "id": "q0tZ2ZaFvPux"
      }
    },
    {
      "cell_type": "code",
      "source": [
        "# Definir función\n",
        "gof = lineal_function(tan_function(x))\n",
        "dy_gof = derivate_function(gof)"
      ],
      "metadata": {
        "id": "1wAHw9v2gR4j"
      },
      "execution_count": 151,
      "outputs": []
    },
    {
      "cell_type": "code",
      "source": [
        "# Usar función de visualización\n",
        "visualization_derivative_function(gof, dy_gof)\n",
        "plt.ylim(-5, 5)"
      ],
      "metadata": {
        "id": "_tTOoYb0UcFB",
        "colab": {
          "base_uri": "https://localhost:8080/",
          "height": 282
        },
        "outputId": "a0e37a39-05d6-4cd9-f23f-ffeaf41ab040"
      },
      "execution_count": 152,
      "outputs": [
        {
          "output_type": "execute_result",
          "data": {
            "text/plain": [
              "(-5.0, 5.0)"
            ]
          },
          "metadata": {},
          "execution_count": 152
        },
        {
          "output_type": "display_data",
          "data": {
            "text/plain": [
              "<Figure size 432x288 with 1 Axes>"
            ],
            "image/png": "[encoded data removed]"
          },
          "metadata": {
            "needs_background": "light"
          }
        }
      ]
    },
    {
      "cell_type": "markdown",
      "source": [
        "## **ACTIVIDAD 3:** MÁXIMOS Y MÍNIMOS"
      ],
      "metadata": {
        "id": "Aw4_-Vnw3NoH"
      }
    },
    {
      "cell_type": "markdown",
      "source": [
        "Dado el siguiente ejercicios Determinar los valores máximos y minimos de la función mostrada.\n",
        "\n",
        "Realice su código de tal forma que obedezca la definición de la misma, determine la primera y segunda derivada de la función, y su gráfico."
      ],
      "metadata": {
        "id": "83peSDC-5tYl"
      }
    },
    {
      "cell_type": "code",
      "source": [
        "#Importar librerías y definir variables globales\n",
        "import math as m\n",
        "import sympy as sy\n",
        "\n",
        "\n",
        "x = sy.Symbol('x')"
      ],
      "metadata": {
        "id": "D2j_FMR6UrEg"
      },
      "execution_count": 109,
      "outputs": []
    },
    {
      "cell_type": "code",
      "source": [
        "# Definir función de la primera derivada\n",
        "\n",
        "def first_derivative_function(y):\n",
        "  dy= sy.diff(y,x)\n",
        "  return dy\n"
      ],
      "metadata": {
        "id": "MYm1i85ScUlL"
      },
      "execution_count": 116,
      "outputs": []
    },
    {
      "cell_type": "code",
      "source": [
        "# Definir función de la segunda derivada\n",
        "def second_derivative_function(y):\n",
        "  d2y= sy.diff(y,x, 2)\n",
        "  return d2y"
      ],
      "metadata": {
        "id": "1QHYoSN3deV3"
      },
      "execution_count": 122,
      "outputs": []
    },
    {
      "cell_type": "code",
      "source": [
        "# Definir función de los puntos críticos\n",
        "def critical_points(dy):\n",
        "  cp =sy.solve(sy.Eq(dy, 0))\n",
        "  return cp"
      ],
      "metadata": {
        "id": "nOeSEoKEcbYT"
      },
      "execution_count": 85,
      "outputs": []
    },
    {
      "cell_type": "code",
      "source": [
        "# Definir función de máximos y mínimos\n",
        "def maximus_minimus(cp, d2y):\n",
        "  for p in cp:\n",
        "    d2 = d2y.subs(x,p)\n",
        "    if d2 > 0:\n",
        "      tipo = 'Minimo'\n",
        "    elif d2 <0:\n",
        "      tipo = 'Maximo'\n",
        "    else:\n",
        "      tipo = 'indefinido'\n",
        "    print('---------------------------')\n",
        "    print(f\"x = {p} \\nd²y = {d2} \\ntipo: {tipo}\")\n",
        "    print('---------------------------')"
      ],
      "metadata": {
        "id": "p82j3oT-cgqE"
      },
      "execution_count": 87,
      "outputs": []
    },
    {
      "cell_type": "code",
      "source": [
        "# Definir función de visualización\n",
        "def visualization_function(a, b, n):\n",
        "  x = np.linspace(a, b, num = n)\n",
        "  y = function_cubic(x)\n",
        "  \n",
        "  fig, ax = plt.subplots()\n",
        "  ax.plot(x, y)\n",
        "  ax.axhline(y = 0, color = 'r')\n",
        "  ax.axvline(x = 0, color = 'r')\n",
        "  ax.grid()\n",
        "  plt.show()"
      ],
      "metadata": {
        "id": "l_fYOfq9cjfF"
      },
      "execution_count": 131,
      "outputs": []
    },
    {
      "cell_type": "markdown",
      "source": [
        "### **EJERCICIO**"
      ],
      "metadata": {
        "id": "-suin5O9Crsn"
      }
    },
    {
      "cell_type": "markdown",
      "source": [
        "Dada la siguiente función: \n",
        "\n",
        "\\begin{equation}\n",
        "f(x) = x^3 - x \\, \\, \\, \\, \\, \\, \\, \\, \\, \\, \\, \\, \\Rightarrow\\, \\, \\, \\, \\, \\, \\, \\, \\, \\, \\, \\, f'(x) = 3x^2 - 1\\, \\, \\, \\, \\, \\, \\, \\, \\, \\, \\, \\, \\Rightarrow\\, \\, \\, \\, \\, \\, \\, \\, \\, \\, \\, \\, f''(x) = 6x\\, \\, \\, \\, \\, \\, \\, \\, \\, \\, \\, \\,; \\, \\, \\, \\, \\, \\, \\, \\, \\, \\, \\, \\, Df = [-5, 5] \n",
        "\\end{equation}"
      ],
      "metadata": {
        "id": "9tnMwbgicy-R"
      }
    },
    {
      "cell_type": "code",
      "source": [
        "# Definir función (expresión)\n",
        "def function_cubic (x):\n",
        "  A=1\n",
        "  B=0\n",
        "  C=-1\n",
        "  D=0\n",
        "  y= A*(x**3) + B*(x**2) +C*x + D\n",
        "  return y\n",
        "\n",
        "f_cubic = function_cubic(x)\n",
        "f_cubic"
      ],
      "metadata": {
        "id": "RcjJYmfyerw1",
        "colab": {
          "base_uri": "https://localhost:8080/",
          "height": 38
        },
        "outputId": "3e433a0a-2358-4b9d-bbbd-b3d4adf5489a"
      },
      "execution_count": 128,
      "outputs": [
        {
          "output_type": "execute_result",
          "data": {
            "text/plain": [
              "x**3 - x"
            ],
            "text/latex": "$\\displaystyle x^{3} - x$"
          },
          "metadata": {},
          "execution_count": 128
        }
      ]
    },
    {
      "cell_type": "code",
      "source": [
        "# Usar función de primera derivada\n",
        "f_dy = first_derivative_function(f_cubic)\n",
        "f_dy"
      ],
      "metadata": {
        "id": "wQBTWun9duKH",
        "colab": {
          "base_uri": "https://localhost:8080/",
          "height": 38
        },
        "outputId": "2f7326d2-88b4-4393-db9a-08dafdc87692"
      },
      "execution_count": 117,
      "outputs": [
        {
          "output_type": "execute_result",
          "data": {
            "text/plain": [
              "3*x**2 - 1"
            ],
            "text/latex": "$\\displaystyle 3 x^{2} - 1$"
          },
          "metadata": {},
          "execution_count": 117
        }
      ]
    },
    {
      "cell_type": "code",
      "source": [
        "# Usar función de segunda derivada\n",
        "f_d2y = second_derivative_function(f_cubic)\n",
        "f_d2y"
      ],
      "metadata": {
        "id": "jc_QDxZKGQYk",
        "colab": {
          "base_uri": "https://localhost:8080/",
          "height": 38
        },
        "outputId": "02ac68e8-7544-44bb-a3b2-0cd47395af1e"
      },
      "execution_count": 123,
      "outputs": [
        {
          "output_type": "execute_result",
          "data": {
            "text/plain": [
              "6*x"
            ],
            "text/latex": "$\\displaystyle 6 x$"
          },
          "metadata": {},
          "execution_count": 123
        }
      ]
    },
    {
      "cell_type": "code",
      "source": [
        "# Usar función de puntos críticos\n",
        "cp =  critical_points(f_dy)\n",
        "cp"
      ],
      "metadata": {
        "id": "vyaEZQF8f254",
        "colab": {
          "base_uri": "https://localhost:8080/"
        },
        "outputId": "47847d41-8f07-493a-842b-4ed6aa657016"
      },
      "execution_count": 124,
      "outputs": [
        {
          "output_type": "execute_result",
          "data": {
            "text/plain": [
              "[-sqrt(3)/3, sqrt(3)/3]"
            ]
          },
          "metadata": {},
          "execution_count": 124
        }
      ]
    },
    {
      "cell_type": "code",
      "source": [
        "# Usar función de máximos y mínimos\n",
        "mas_min= maximus_minimus(cp, f_d2y)"
      ],
      "metadata": {
        "id": "La5llS3Yizqc",
        "colab": {
          "base_uri": "https://localhost:8080/"
        },
        "outputId": "49288881-65bf-4a1d-d077-384c885bfed4"
      },
      "execution_count": 125,
      "outputs": [
        {
          "output_type": "stream",
          "name": "stdout",
          "text": [
            "---------------------------\n",
            "x = -sqrt(3)/3 \n",
            "d²y = -2*sqrt(3) \n",
            "tipo: Maximo\n",
            "---------------------------\n",
            "---------------------------\n",
            "x = sqrt(3)/3 \n",
            "d²y = 2*sqrt(3) \n",
            "tipo: Minimo\n",
            "---------------------------\n"
          ]
        }
      ]
    },
    {
      "cell_type": "code",
      "source": [
        "# Usar función de visualización\n",
        "visualization_function(-5,5, 1000)"
      ],
      "metadata": {
        "id": "LqpksA99HoHI",
        "colab": {
          "base_uri": "https://localhost:8080/",
          "height": 265
        },
        "outputId": "21fb3534-7a62-475d-b504-2e9da63da0ff"
      },
      "execution_count": 132,
      "outputs": [
        {
          "output_type": "display_data",
          "data": {
            "text/plain": [
              "<Figure size 432x288 with 1 Axes>"
            ],
            "image/png": "[encoded data removed]"
          },
          "metadata": {
            "needs_background": "light"
          }
        }
      ]
    },
    {
      "cell_type": "markdown",
      "source": [
        "## **ACTIVIDAD 4: INTEGRAL**"
      ],
      "metadata": {
        "id": "-wruDnEaDFlN"
      }
    },
    {
      "cell_type": "markdown",
      "source": [
        "Dado el siguiente ejercicio, determinar la integral de la función mostrada.\n",
        "\n",
        "Realice su código de tal forma que obedezca la definición de la misma, determine la antiderivada e integral definida, y su gráfico."
      ],
      "metadata": {
        "id": "yF2vl-LqQ8N_"
      }
    },
    {
      "cell_type": "code",
      "source": [
        "#Importar librerías y definir variables globales\n",
        "\n",
        "import numpy as np\n",
        "import sympy as sy\n",
        "import matplotlib.pyplot as plt\n",
        "\n",
        "x=sy.Symbol('x')"
      ],
      "metadata": {
        "id": "EqXGZJh2-A_H"
      },
      "execution_count": 153,
      "outputs": []
    },
    {
      "cell_type": "code",
      "source": [
        "# Definir función de antiderivada\n",
        "\n",
        "def anti_derivative(y):\n",
        "  F =sy.integrate(y,x)\n",
        "  return F"
      ],
      "metadata": {
        "id": "BFxvTbKTAl0s"
      },
      "execution_count": 154,
      "outputs": []
    },
    {
      "cell_type": "code",
      "source": [
        "# Definir función de integración\n",
        "def integrate_function(y, a, b):\n",
        "  int_y = sy.integrate(y, (x, a, b))\n",
        "  return int_y"
      ],
      "metadata": {
        "id": "LncyCsYoBadM"
      },
      "execution_count": 155,
      "outputs": []
    },
    {
      "cell_type": "code",
      "source": [
        "# Definir función de visualización\n",
        "def visualization_integrate_function(a, b, n):\n",
        "  x = np.linspace(a, b, num = n)\n",
        "  y = cub_function(x) \n",
        "\n",
        "  plt.plot(x, y)\n",
        "  plt.axhline(y = 0, color = 'r')\n",
        "  plt.axvline(x = 0, color = 'r')\n",
        "  plt.fill_between(x, y, where = [(x > 0) and (x < 1) for x in x])\n",
        "  plt.show()"
      ],
      "metadata": {
        "id": "jnMgDtw_BrbX"
      },
      "execution_count": 158,
      "outputs": []
    },
    {
      "cell_type": "markdown",
      "source": [
        "### **EJERCICIO:**"
      ],
      "metadata": {
        "id": "KF8VS_IwS_NR"
      }
    },
    {
      "cell_type": "markdown",
      "source": [
        "Programar la siguiente función: \n",
        "\n",
        "\\begin{equation}\n",
        "f(x) = x^3\\, \\, \\, \\, \\, \\, \\, \\, \\, \\, \\, \\,; \\, \\, \\, \\, \\, \\, \\, \\, \\, \\, \\, \\, Df = [-1.5, 1.5]\n",
        "\\end{equation}\n",
        "\n",
        "Determinando la antiderivada\n",
        "\n",
        "\\begin{equation}\n",
        "\\int f(x)dx = \\frac{x^4}{4} + C\n",
        "\\end{equation}\n",
        "\n",
        "Al determinar su área bajo la curva:\n",
        "\n",
        "\\begin{equation}\n",
        "\\int_{0}^{1} f(x)dx ) = \\frac{(1)^4}{4} - \\frac{(0)^4}{4} = \\frac{1}{4} \\, \\, \\, \\, \\, \\, \\, \\, \\, \\, \\, \\,; \\, \\, \\, \\, \\, \\, \\, \\, \\, \\, \\, \\,  x\\in [0, 1]\n",
        "\\end{equation}\n"
      ],
      "metadata": {
        "id": "iOOVFFZ0dbMt"
      }
    },
    {
      "cell_type": "code",
      "source": [
        "# Definir función\n",
        "def cub_function(x):\n",
        "  y = x**3\n",
        "  return y\n",
        "\n",
        "\n",
        "f_cub = cub_function(x)\n",
        "f_cub"
      ],
      "metadata": {
        "id": "l2tAugIyQlII",
        "colab": {
          "base_uri": "https://localhost:8080/",
          "height": 38
        },
        "outputId": "e209e771-886d-4b60-b37e-622e4af063c9"
      },
      "execution_count": 194,
      "outputs": [
        {
          "output_type": "execute_result",
          "data": {
            "text/plain": [
              "x**3"
            ],
            "text/latex": "$\\displaystyle x^{3}$"
          },
          "metadata": {},
          "execution_count": 194
        }
      ]
    },
    {
      "cell_type": "code",
      "source": [
        "# Usar función de antiderivada\n",
        "anti_derivative(f_cub)"
      ],
      "metadata": {
        "id": "U62MXt1XTkmO",
        "colab": {
          "base_uri": "https://localhost:8080/",
          "height": 54
        },
        "outputId": "e641358d-5f81-4afd-f2b5-3d0d30a2d475"
      },
      "execution_count": 195,
      "outputs": [
        {
          "output_type": "execute_result",
          "data": {
            "text/plain": [
              "x**4/4"
            ],
            "text/latex": "$\\displaystyle \\frac{x^{4}}{4}$"
          },
          "metadata": {},
          "execution_count": 195
        }
      ]
    },
    {
      "cell_type": "code",
      "source": [
        "# Usar función de integración\n",
        "integrate_function(f_cub, 0, 1)"
      ],
      "metadata": {
        "id": "-9QyfvhtTnLr",
        "colab": {
          "base_uri": "https://localhost:8080/",
          "height": 51
        },
        "outputId": "055306c8-af4f-4c6d-81c1-eda50787ad09"
      },
      "execution_count": 196,
      "outputs": [
        {
          "output_type": "execute_result",
          "data": {
            "text/plain": [
              "1/4"
            ],
            "text/latex": "$\\displaystyle \\frac{1}{4}$"
          },
          "metadata": {},
          "execution_count": 196
        }
      ]
    },
    {
      "cell_type": "code",
      "source": [
        "# Usar función de visualización\n",
        "visualization_integrate_function(-1.5, 1.5, 1000)"
      ],
      "metadata": {
        "id": "GNaaG3TqUAfP",
        "colab": {
          "base_uri": "https://localhost:8080/",
          "height": 265
        },
        "outputId": "8607ee90-a534-478b-e022-5014f2c3b625"
      },
      "execution_count": 197,
      "outputs": [
        {
          "output_type": "display_data",
          "data": {
            "text/plain": [
              "<Figure size 432x288 with 1 Axes>"
            ],
            "image/png": "[encoded data removed]"
          },
          "metadata": {
            "needs_background": "light"
          }
        }
      ]
    }
  ]
}