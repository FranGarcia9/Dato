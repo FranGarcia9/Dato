{
 "cells": [
  {
   "cell_type": "markdown",
   "id": "332e2d95",
   "metadata": {
    "papermill": {
     "duration": 0.0055,
     "end_time": "2022-08-23T00:49:15.616297",
     "exception": false,
     "start_time": "2022-08-23T00:49:15.610797",
     "status": "completed"
    },
    "tags": []
   },
   "source": [
    "**This notebook is an exercise in the [Python](https://www.kaggle.com/learn/python) course.  You can reference the tutorial at [this link](https://www.kaggle.com/colinmorris/lists).**\n",
    "\n",
    "---\n"
   ]
  },
  {
   "cell_type": "markdown",
   "id": "ecbebfb2",
   "metadata": {
    "papermill": {
     "duration": 0.003883,
     "end_time": "2022-08-23T00:49:15.624786",
     "exception": false,
     "start_time": "2022-08-23T00:49:15.620903",
     "status": "completed"
    },
    "tags": []
   },
   "source": [
    "Things get more interesting with lists. You'll apply your new knowledge to solve the questions below. Remember to run the following cell first."
   ]
  },
  {
   "cell_type": "code",
   "execution_count": 1,
   "id": "8e6e7469",
   "metadata": {
    "execution": {
     "iopub.execute_input": "2022-08-23T00:49:15.635346Z",
     "iopub.status.busy": "2022-08-23T00:49:15.634661Z",
     "iopub.status.idle": "2022-08-23T00:49:15.692189Z",
     "shell.execute_reply": "2022-08-23T00:49:15.690633Z"
    },
    "papermill": {
     "duration": 0.066261,
     "end_time": "2022-08-23T00:49:15.695257",
     "exception": false,
     "start_time": "2022-08-23T00:49:15.628996",
     "status": "completed"
    },
    "tags": []
   },
   "outputs": [
    {
     "name": "stdout",
     "output_type": "stream",
     "text": [
      "Setup complete.\n"
     ]
    }
   ],
   "source": [
    "from learntools.core import binder; binder.bind(globals())\n",
    "from learntools.python.ex4 import *\n",
    "print('Setup complete.')"
   ]
  },
  {
   "cell_type": "markdown",
   "id": "ca3e78bc",
   "metadata": {
    "papermill": {
     "duration": 0.004163,
     "end_time": "2022-08-23T00:49:15.703971",
     "exception": false,
     "start_time": "2022-08-23T00:49:15.699808",
     "status": "completed"
    },
    "tags": []
   },
   "source": [
    "# 1.\n",
    "\n",
    "Complete the function below according to its docstring."
   ]
  },
  {
   "cell_type": "code",
   "execution_count": 2,
   "id": "4e016cde",
   "metadata": {
    "execution": {
     "iopub.execute_input": "2022-08-23T00:49:15.714417Z",
     "iopub.status.busy": "2022-08-23T00:49:15.713957Z",
     "iopub.status.idle": "2022-08-23T00:49:15.725882Z",
     "shell.execute_reply": "2022-08-23T00:49:15.724789Z"
    },
    "papermill": {
     "duration": 0.019961,
     "end_time": "2022-08-23T00:49:15.728262",
     "exception": false,
     "start_time": "2022-08-23T00:49:15.708301",
     "status": "completed"
    },
    "tags": []
   },
   "outputs": [
    {
     "data": {
      "application/javascript": [
       "parent.postMessage({\"jupyterEvent\": \"custom.exercise_interaction\", \"data\": {\"outcomeType\": 4, \"interactionType\": 1, \"questionType\": 2, \"questionId\": \"1_SelectSecondItem\", \"learnToolsVersion\": \"0.3.4\", \"valueTowardsCompletion\": 0.0, \"failureMessage\": \"\", \"exceptionClass\": \"\", \"trace\": \"\"}}, \"*\")"
      ],
      "text/plain": [
       "<IPython.core.display.Javascript object>"
      ]
     },
     "metadata": {},
     "output_type": "display_data"
    },
    {
     "data": {
      "text/markdown": [
       "<span style=\"color:#ccaa33\">Check:</span> When you've updated the starter code, `check()` will tell you whether your code is correct. "
      ],
      "text/plain": [
       "Check: When you've updated the starter code, `check()` will tell you whether your code is correct. "
      ]
     },
     "metadata": {},
     "output_type": "display_data"
    }
   ],
   "source": [
    "def select_second(L):\n",
    "    \"\"\"Return the second element of the given list. If the list has no second\n",
    "    element, return None.\n",
    "    \"\"\"\n",
    "    pass\n",
    "\n",
    "# Check your answer\n",
    "q1.check()"
   ]
  },
  {
   "cell_type": "code",
   "execution_count": 3,
   "id": "55ec5dec",
   "metadata": {
    "collapsed": true,
    "execution": {
     "iopub.execute_input": "2022-08-23T00:49:15.739295Z",
     "iopub.status.busy": "2022-08-23T00:49:15.738929Z",
     "iopub.status.idle": "2022-08-23T00:49:15.743114Z",
     "shell.execute_reply": "2022-08-23T00:49:15.742319Z"
    },
    "jupyter": {
     "outputs_hidden": true
    },
    "papermill": {
     "duration": 0.01196,
     "end_time": "2022-08-23T00:49:15.745046",
     "exception": false,
     "start_time": "2022-08-23T00:49:15.733086",
     "status": "completed"
    },
    "tags": []
   },
   "outputs": [],
   "source": [
    "#q1.hint()\n",
    "#q1.solution()"
   ]
  },
  {
   "cell_type": "markdown",
   "id": "f12433b7",
   "metadata": {
    "papermill": {
     "duration": 0.004559,
     "end_time": "2022-08-23T00:49:15.754413",
     "exception": false,
     "start_time": "2022-08-23T00:49:15.749854",
     "status": "completed"
    },
    "tags": []
   },
   "source": [
    "# 2.\n",
    "\n",
    "You are analyzing sports teams.  Members of each team are stored in a list. The Coach is the first name in the list, the captain is the second name in the list, and other players are listed after that. \n",
    "These lists are stored in another list, which starts with the best team and proceeds through the list to the worst team last.  Complete the function below to select the **captain** of the worst team."
   ]
  },
  {
   "cell_type": "code",
   "execution_count": 4,
   "id": "397cc5cc",
   "metadata": {
    "execution": {
     "iopub.execute_input": "2022-08-23T00:49:15.765805Z",
     "iopub.status.busy": "2022-08-23T00:49:15.765069Z",
     "iopub.status.idle": "2022-08-23T00:49:15.773062Z",
     "shell.execute_reply": "2022-08-23T00:49:15.772298Z"
    },
    "papermill": {
     "duration": 0.016013,
     "end_time": "2022-08-23T00:49:15.775060",
     "exception": false,
     "start_time": "2022-08-23T00:49:15.759047",
     "status": "completed"
    },
    "tags": []
   },
   "outputs": [
    {
     "data": {
      "application/javascript": [
       "parent.postMessage({\"jupyterEvent\": \"custom.exercise_interaction\", \"data\": {\"outcomeType\": 4, \"interactionType\": 1, \"questionType\": 2, \"questionId\": \"2_LosingTeamCaptain\", \"learnToolsVersion\": \"0.3.4\", \"valueTowardsCompletion\": 0.0, \"failureMessage\": \"\", \"exceptionClass\": \"\", \"trace\": \"\"}}, \"*\")"
      ],
      "text/plain": [
       "<IPython.core.display.Javascript object>"
      ]
     },
     "metadata": {},
     "output_type": "display_data"
    },
    {
     "data": {
      "text/markdown": [
       "<span style=\"color:#ccaa33\">Check:</span> When you've updated the starter code, `check()` will tell you whether your code is correct. "
      ],
      "text/plain": [
       "Check: When you've updated the starter code, `check()` will tell you whether your code is correct. "
      ]
     },
     "metadata": {},
     "output_type": "display_data"
    }
   ],
   "source": [
    "def losing_team_captain(teams):\n",
    "    \"\"\"Given a list of teams, where each team is a list of names, return the 2nd player (captain)\n",
    "    from the last listed team\n",
    "    \"\"\"\n",
    "    pass\n",
    "\n",
    "# Check your answer\n",
    "q2.check()"
   ]
  },
  {
   "cell_type": "code",
   "execution_count": 5,
   "id": "62eac7ec",
   "metadata": {
    "collapsed": true,
    "execution": {
     "iopub.execute_input": "2022-08-23T00:49:15.787637Z",
     "iopub.status.busy": "2022-08-23T00:49:15.786955Z",
     "iopub.status.idle": "2022-08-23T00:49:15.790784Z",
     "shell.execute_reply": "2022-08-23T00:49:15.790036Z"
    },
    "jupyter": {
     "outputs_hidden": true
    },
    "papermill": {
     "duration": 0.012489,
     "end_time": "2022-08-23T00:49:15.792766",
     "exception": false,
     "start_time": "2022-08-23T00:49:15.780277",
     "status": "completed"
    },
    "tags": []
   },
   "outputs": [],
   "source": [
    "#q2.hint()\n",
    "#q2.solution()"
   ]
  },
  {
   "cell_type": "markdown",
   "id": "91154a22",
   "metadata": {
    "papermill": {
     "duration": 0.004907,
     "end_time": "2022-08-23T00:49:15.803380",
     "exception": false,
     "start_time": "2022-08-23T00:49:15.798473",
     "status": "completed"
    },
    "tags": []
   },
   "source": [
    "# 3.\n",
    "\n",
    "The next iteration of Mario Kart will feature an extra-infuriating new item, the *Purple Shell*. When used, it warps the last place racer into first place and the first place racer into last place. Complete the function below to implement the Purple Shell's effect."
   ]
  },
  {
   "cell_type": "code",
   "execution_count": 6,
   "id": "f540c195",
   "metadata": {
    "execution": {
     "iopub.execute_input": "2022-08-23T00:49:15.815623Z",
     "iopub.status.busy": "2022-08-23T00:49:15.814884Z",
     "iopub.status.idle": "2022-08-23T00:49:15.822257Z",
     "shell.execute_reply": "2022-08-23T00:49:15.821536Z"
    },
    "papermill": {
     "duration": 0.016112,
     "end_time": "2022-08-23T00:49:15.824606",
     "exception": false,
     "start_time": "2022-08-23T00:49:15.808494",
     "status": "completed"
    },
    "tags": []
   },
   "outputs": [
    {
     "data": {
      "application/javascript": [
       "parent.postMessage({\"jupyterEvent\": \"custom.exercise_interaction\", \"data\": {\"outcomeType\": 4, \"interactionType\": 1, \"questionType\": 2, \"questionId\": \"3_PurpleShell\", \"learnToolsVersion\": \"0.3.4\", \"valueTowardsCompletion\": 0.0, \"failureMessage\": \"\", \"exceptionClass\": \"\", \"trace\": \"\"}}, \"*\")"
      ],
      "text/plain": [
       "<IPython.core.display.Javascript object>"
      ]
     },
     "metadata": {},
     "output_type": "display_data"
    },
    {
     "data": {
      "text/markdown": [
       "<span style=\"color:#ccaa33\">Check:</span> When you've updated the starter code, `check()` will tell you whether your code is correct. "
      ],
      "text/plain": [
       "Check: When you've updated the starter code, `check()` will tell you whether your code is correct. "
      ]
     },
     "metadata": {},
     "output_type": "display_data"
    }
   ],
   "source": [
    "def purple_shell(racers):\n",
    "    \"\"\"Given a list of racers, set the first place racer (at the front of the list) to last\n",
    "    place and vice versa.\n",
    "    \n",
    "    >>> r = [\"Mario\", \"Bowser\", \"Luigi\"]\n",
    "    >>> purple_shell(r)\n",
    "    >>> r\n",
    "    [\"Luigi\", \"Bowser\", \"Mario\"]\n",
    "    \"\"\"\n",
    "    pass\n",
    "\n",
    "# Check your answer\n",
    "q3.check()"
   ]
  },
  {
   "cell_type": "code",
   "execution_count": 7,
   "id": "4ae46d98",
   "metadata": {
    "collapsed": true,
    "execution": {
     "iopub.execute_input": "2022-08-23T00:49:15.837180Z",
     "iopub.status.busy": "2022-08-23T00:49:15.836546Z",
     "iopub.status.idle": "2022-08-23T00:49:15.840092Z",
     "shell.execute_reply": "2022-08-23T00:49:15.839370Z"
    },
    "jupyter": {
     "outputs_hidden": true
    },
    "papermill": {
     "duration": 0.011974,
     "end_time": "2022-08-23T00:49:15.842122",
     "exception": false,
     "start_time": "2022-08-23T00:49:15.830148",
     "status": "completed"
    },
    "tags": []
   },
   "outputs": [],
   "source": [
    "#q3.hint()\n",
    "#q3.solution()"
   ]
  },
  {
   "cell_type": "markdown",
   "id": "fcec7bd5",
   "metadata": {
    "papermill": {
     "duration": 0.005109,
     "end_time": "2022-08-23T00:49:15.852592",
     "exception": false,
     "start_time": "2022-08-23T00:49:15.847483",
     "status": "completed"
    },
    "tags": []
   },
   "source": [
    "# 4.\n",
    "\n",
    "What are the lengths of the following lists? Fill in the variable `lengths` with your predictions. (Try to make a prediction for each list *without* just calling `len()` on it.)"
   ]
  },
  {
   "cell_type": "code",
   "execution_count": 8,
   "id": "5db5e1e3",
   "metadata": {
    "execution": {
     "iopub.execute_input": "2022-08-23T00:49:15.865415Z",
     "iopub.status.busy": "2022-08-23T00:49:15.864680Z",
     "iopub.status.idle": "2022-08-23T00:49:15.872875Z",
     "shell.execute_reply": "2022-08-23T00:49:15.872055Z"
    },
    "papermill": {
     "duration": 0.017046,
     "end_time": "2022-08-23T00:49:15.874949",
     "exception": false,
     "start_time": "2022-08-23T00:49:15.857903",
     "status": "completed"
    },
    "tags": []
   },
   "outputs": [
    {
     "data": {
      "application/javascript": [
       "parent.postMessage({\"jupyterEvent\": \"custom.exercise_interaction\", \"data\": {\"outcomeType\": 4, \"interactionType\": 1, \"questionType\": 1, \"questionId\": \"4_UnderstandLen\", \"learnToolsVersion\": \"0.3.4\", \"valueTowardsCompletion\": 0.0, \"failureMessage\": \"\", \"exceptionClass\": \"\", \"trace\": \"\"}}, \"*\")"
      ],
      "text/plain": [
       "<IPython.core.display.Javascript object>"
      ]
     },
     "metadata": {},
     "output_type": "display_data"
    },
    {
     "data": {
      "text/markdown": [
       "<span style=\"color:#ccaa33\">Check:</span> When you've updated the starter code, `check()` will tell you whether your code is correct. You need to update the code that creates variable `lengths`"
      ],
      "text/plain": [
       "Check: When you've updated the starter code, `check()` will tell you whether your code is correct. You need to update the code that creates variable `lengths`"
      ]
     },
     "metadata": {},
     "output_type": "display_data"
    }
   ],
   "source": [
    "a = [1, 2, 3]\n",
    "b = [1, [2, 3]]\n",
    "c = []\n",
    "d = [1, 2, 3][1:]\n",
    "\n",
    "# Put your predictions in the list below. Lengths should contain 4 numbers, the\n",
    "# first being the length of a, the second being the length of b and so on.\n",
    "lengths = []\n",
    "\n",
    "# Check your answer\n",
    "q4.check()"
   ]
  },
  {
   "cell_type": "code",
   "execution_count": 9,
   "id": "b0fa3dac",
   "metadata": {
    "collapsed": true,
    "execution": {
     "iopub.execute_input": "2022-08-23T00:49:15.888607Z",
     "iopub.status.busy": "2022-08-23T00:49:15.887786Z",
     "iopub.status.idle": "2022-08-23T00:49:15.891629Z",
     "shell.execute_reply": "2022-08-23T00:49:15.890878Z"
    },
    "jupyter": {
     "outputs_hidden": true
    },
    "papermill": {
     "duration": 0.012909,
     "end_time": "2022-08-23T00:49:15.893650",
     "exception": false,
     "start_time": "2022-08-23T00:49:15.880741",
     "status": "completed"
    },
    "tags": []
   },
   "outputs": [],
   "source": [
    "# line below provides some explanation\n",
    "#q4.solution()"
   ]
  },
  {
   "cell_type": "markdown",
   "id": "af4d3ee8",
   "metadata": {
    "papermill": {
     "duration": 0.005711,
     "end_time": "2022-08-23T00:49:15.905885",
     "exception": false,
     "start_time": "2022-08-23T00:49:15.900174",
     "status": "completed"
    },
    "tags": []
   },
   "source": [
    "# 5. <span title=\"A bit spicy\" style=\"color: darkgreen \">🌶️</span>\n",
    "\n",
    "We're using lists to record people who attended our party and what order they arrived in. For example, the following list represents a party with 7 guests, in which Adela showed up first and Ford was the last to arrive:\n",
    "\n",
    "    party_attendees = ['Adela', 'Fleda', 'Owen', 'May', 'Mona', 'Gilbert', 'Ford']\n",
    "\n",
    "A guest is considered 'fashionably late' if they arrived after at least half of the party's guests. However, they must not be the very last guest (that's taking it too far). In the above example, Mona and Gilbert are the only guests who were fashionably late.\n",
    "\n",
    "Complete the function below which takes a list of party attendees as well as a person, and tells us whether that person is fashionably late."
   ]
  },
  {
   "cell_type": "code",
   "execution_count": 10,
   "id": "0ac261fd",
   "metadata": {
    "execution": {
     "iopub.execute_input": "2022-08-23T00:49:15.919224Z",
     "iopub.status.busy": "2022-08-23T00:49:15.918539Z",
     "iopub.status.idle": "2022-08-23T00:49:15.925527Z",
     "shell.execute_reply": "2022-08-23T00:49:15.924819Z"
    },
    "papermill": {
     "duration": 0.015847,
     "end_time": "2022-08-23T00:49:15.927472",
     "exception": false,
     "start_time": "2022-08-23T00:49:15.911625",
     "status": "completed"
    },
    "tags": []
   },
   "outputs": [
    {
     "data": {
      "application/javascript": [
       "parent.postMessage({\"jupyterEvent\": \"custom.exercise_interaction\", \"data\": {\"outcomeType\": 4, \"interactionType\": 1, \"questionType\": 2, \"questionId\": \"5_FashionablyLate\", \"learnToolsVersion\": \"0.3.4\", \"valueTowardsCompletion\": 0.0, \"failureMessage\": \"\", \"exceptionClass\": \"\", \"trace\": \"\"}}, \"*\")"
      ],
      "text/plain": [
       "<IPython.core.display.Javascript object>"
      ]
     },
     "metadata": {},
     "output_type": "display_data"
    },
    {
     "data": {
      "text/markdown": [
       "<span style=\"color:#ccaa33\">Check:</span> When you've updated the starter code, `check()` will tell you whether your code is correct. "
      ],
      "text/plain": [
       "Check: When you've updated the starter code, `check()` will tell you whether your code is correct. "
      ]
     },
     "metadata": {},
     "output_type": "display_data"
    }
   ],
   "source": [
    "def fashionably_late(arrivals, name):\n",
    "    \"\"\"Given an ordered list of arrivals to the party and a name, return whether the guest with that\n",
    "    name was fashionably late.\n",
    "    \"\"\"\n",
    "    pass\n",
    "\n",
    "# Check your answer\n",
    "q5.check()"
   ]
  },
  {
   "cell_type": "code",
   "execution_count": 11,
   "id": "5010df9f",
   "metadata": {
    "collapsed": true,
    "execution": {
     "iopub.execute_input": "2022-08-23T00:49:15.941926Z",
     "iopub.status.busy": "2022-08-23T00:49:15.941344Z",
     "iopub.status.idle": "2022-08-23T00:49:15.945054Z",
     "shell.execute_reply": "2022-08-23T00:49:15.943956Z"
    },
    "jupyter": {
     "outputs_hidden": true
    },
    "papermill": {
     "duration": 0.013308,
     "end_time": "2022-08-23T00:49:15.947460",
     "exception": false,
     "start_time": "2022-08-23T00:49:15.934152",
     "status": "completed"
    },
    "tags": []
   },
   "outputs": [],
   "source": [
    "#q5.hint()\n",
    "#q5.solution()"
   ]
  },
  {
   "cell_type": "markdown",
   "id": "03e0d181",
   "metadata": {
    "papermill": {
     "duration": 0.005742,
     "end_time": "2022-08-23T00:49:15.959258",
     "exception": false,
     "start_time": "2022-08-23T00:49:15.953516",
     "status": "completed"
    },
    "tags": []
   },
   "source": [
    "# Keep Going\n",
    "\n",
    "That's it for lists and tuples! Now you have the baseline knowledge to **[learn about loops](https://www.kaggle.com/colinmorris/loops-and-list-comprehensions)**, which is where lists and tuples get really interesting. "
   ]
  },
  {
   "cell_type": "markdown",
   "id": "cc26a66d",
   "metadata": {
    "papermill": {
     "duration": 0.005754,
     "end_time": "2022-08-23T00:49:15.970992",
     "exception": false,
     "start_time": "2022-08-23T00:49:15.965238",
     "status": "completed"
    },
    "tags": []
   },
   "source": [
    "---\n",
    "\n",
    "\n",
    "\n",
    "\n",
    "*Have questions or comments? Visit the [course discussion forum](https://www.kaggle.com/learn/python/discussion) to chat with other learners.*"
   ]
  }
 ],
 "metadata": {
  "kernelspec": {
   "display_name": "Python 3",
   "language": "python",
   "name": "python3"
  },
  "language_info": {
   "codemirror_mode": {
    "name": "ipython",
    "version": 3
   },
   "file_extension": ".py",
   "mimetype": "text/x-python",
   "name": "python",
   "nbconvert_exporter": "python",
   "pygments_lexer": "ipython3",
   "version": "3.7.12"
  },
  "papermill": {
   "default_parameters": {},
   "duration": 9.925457,
   "end_time": "2022-08-23T00:49:16.597775",
   "environment_variables": {},
   "exception": null,
   "input_path": "__notebook__.ipynb",
   "output_path": "__notebook__.ipynb",
   "parameters": {},
   "start_time": "2022-08-23T00:49:06.672318",
   "version": "2.3.4"
  }
 },
 "nbformat": 4,
 "nbformat_minor": 5
}
