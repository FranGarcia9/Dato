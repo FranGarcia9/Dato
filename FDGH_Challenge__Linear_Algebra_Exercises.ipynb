{
  "nbformat": 4,
  "nbformat_minor": 0,
  "metadata": {
    "colab": {
      "provenance": [],
      "collapsed_sections": [],
      "include_colab_link": true
    },
    "kernelspec": {
      "name": "python3",
      "display_name": "Python 3"
    },
    "language_info": {
      "name": "python"
    }
  },
  "cells": [
    {
      "cell_type": "markdown",
      "metadata": {
        "id": "view-in-github",
        "colab_type": "text"
      },
      "source": [
        "<a href=\"https://colab.research.google.com/github/FranGarcia9/Dato/blob/main/FDGH_Challenge__Linear_Algebra_Exercises.ipynb\" target=\"_parent\"><img src=\"https://colab.research.google.com/assets/colab-badge.svg\" alt=\"Open In Colab\"/></a>"
      ]
    },
    {
      "cell_type": "markdown",
      "source": [
        "# **CHALLENGE :** LINEAR ALGEBRA EXERCISES."
      ],
      "metadata": {
        "id": "1sfxkdt6lEnb"
      }
    },
    {
      "cell_type": "markdown",
      "source": [
        "Una vez visto el ***Hands - On: Linear Algebra***, se presentan la siguientes actividades para que el alumnado pueda repasar y reforzar lo aprendido dentro de la clase de ***Introducción al Álgebra Lineal***. "
      ],
      "metadata": {
        "id": "y1s886S-lNDi"
      }
    },
    {
      "cell_type": "markdown",
      "source": [
        "# ACTIVIDAD 1. DEFINICIÓN DE MATRICES"
      ],
      "metadata": {
        "id": "SrGZ3a4Ll0uD"
      }
    },
    {
      "cell_type": "code",
      "source": [
        "import numpy as np"
      ],
      "metadata": {
        "id": "uLfw_VGIKdFK"
      },
      "execution_count": 1,
      "outputs": []
    },
    {
      "cell_type": "markdown",
      "source": [
        "Define un escalar utilizando Numpy"
      ],
      "metadata": {
        "id": "upTdhWIhmF8i"
      }
    },
    {
      "cell_type": "code",
      "source": [
        "escalar = np.ScalarType \n",
        "escalar"
      ],
      "metadata": {
        "id": "L7vsg-ogKS7E",
        "colab": {
          "base_uri": "https://localhost:8080/"
        },
        "outputId": "d72c8011-79bf-4532-9ef3-1eabe36a2668"
      },
      "execution_count": 26,
      "outputs": [
        {
          "output_type": "execute_result",
          "data": {
            "text/plain": [
              "10"
            ]
          },
          "metadata": {},
          "execution_count": 26
        }
      ]
    },
    {
      "cell_type": "markdown",
      "source": [
        "Define un vector de 5 elementos utilizando Numpy"
      ],
      "metadata": {
        "id": "-x-rsB-bmJ-a"
      }
    },
    {
      "cell_type": "code",
      "source": [
        "vect = np.array([2,5,7,4,6])\n",
        "vect"
      ],
      "metadata": {
        "colab": {
          "base_uri": "https://localhost:8080/"
        },
        "id": "UT2PoJSkcVZv",
        "outputId": "0ebc020d-1e2a-4a9b-9163-7d716b1f347d"
      },
      "execution_count": 3,
      "outputs": [
        {
          "output_type": "execute_result",
          "data": {
            "text/plain": [
              "array([2, 5, 7, 4, 6])"
            ]
          },
          "metadata": {},
          "execution_count": 3
        }
      ]
    },
    {
      "cell_type": "markdown",
      "source": [
        "Define una matriz de 2x2 utilizando Numpy"
      ],
      "metadata": {
        "id": "jMXY3pOemU7R"
      }
    },
    {
      "cell_type": "code",
      "source": [
        "t = np.matrix([\n",
        "    [1,1,],\n",
        "    [2,2]\n",
        "])\n",
        "\n",
        "t"
      ],
      "metadata": {
        "colab": {
          "base_uri": "https://localhost:8080/"
        },
        "id": "NvfnzAMNdbV0",
        "outputId": "bd898b2f-3992-4717-e7d6-c0c97f365f72"
      },
      "execution_count": 5,
      "outputs": [
        {
          "output_type": "execute_result",
          "data": {
            "text/plain": [
              "matrix([[1, 1],\n",
              "        [2, 2]])"
            ]
          },
          "metadata": {},
          "execution_count": 5
        }
      ]
    },
    {
      "cell_type": "markdown",
      "source": [
        "Define una matriz de 5x4 utilizando Numpy"
      ],
      "metadata": {
        "id": "tmGZ1pWfmXzZ"
      }
    },
    {
      "cell_type": "code",
      "source": [
        "r = np.ones([5,4])\n",
        "r"
      ],
      "metadata": {
        "colab": {
          "base_uri": "https://localhost:8080/"
        },
        "id": "x54B3qZLfAac",
        "outputId": "6b34f8b3-bbd6-4078-f4d3-fc56daff5129"
      },
      "execution_count": 11,
      "outputs": [
        {
          "output_type": "execute_result",
          "data": {
            "text/plain": [
              "array([[1., 1., 1., 1.],\n",
              "       [1., 1., 1., 1.],\n",
              "       [1., 1., 1., 1.],\n",
              "       [1., 1., 1., 1.],\n",
              "       [1., 1., 1., 1.]])"
            ]
          },
          "metadata": {},
          "execution_count": 11
        }
      ]
    },
    {
      "cell_type": "markdown",
      "source": [
        "# ACTIVIDAD 2. SUMA Y RESTA DE MATRICES"
      ],
      "metadata": {
        "id": "dyGnh3n_mbkZ"
      }
    },
    {
      "cell_type": "markdown",
      "source": [
        "Realiza la operación de suma de 2 vectores utilizando Numpy"
      ],
      "metadata": {
        "id": "YBx_MlLQmsQS"
      }
    },
    {
      "cell_type": "code",
      "source": [
        "a= np.array([4,8])\n",
        "b=np.array([2,6])\n",
        "\n",
        "a+b"
      ],
      "metadata": {
        "colab": {
          "base_uri": "https://localhost:8080/"
        },
        "id": "Fe1PwK8Afbuv",
        "outputId": "ea468c50-b662-4f12-fb96-8df3d34b9346"
      },
      "execution_count": 12,
      "outputs": [
        {
          "output_type": "execute_result",
          "data": {
            "text/plain": [
              "array([ 6, 14])"
            ]
          },
          "metadata": {},
          "execution_count": 12
        }
      ]
    },
    {
      "cell_type": "markdown",
      "source": [
        "Realiza la operación de suma de 2 matrices utilizando Numpy"
      ],
      "metadata": {
        "id": "H3YTPj5lmybC"
      }
    },
    {
      "cell_type": "code",
      "source": [
        "t = np.matrix([\n",
        "    [1,1,],\n",
        "    [2,2]\n",
        "])\n",
        "\n",
        "q = np.matrix([\n",
        "    [2,4,],\n",
        "    [4,3]\n",
        "])\n",
        "\n",
        "t + q"
      ],
      "metadata": {
        "colab": {
          "base_uri": "https://localhost:8080/"
        },
        "id": "1I98jgCSfcKl",
        "outputId": "972a3a7d-df18-4a46-a0f9-2e206b644126"
      },
      "execution_count": 13,
      "outputs": [
        {
          "output_type": "execute_result",
          "data": {
            "text/plain": [
              "matrix([[3, 5],\n",
              "        [6, 5]])"
            ]
          },
          "metadata": {},
          "execution_count": 13
        }
      ]
    },
    {
      "cell_type": "markdown",
      "source": [
        "Realiza la operación de suma de 2 matrices que falle debido a tamaño inapropiado de las matrices"
      ],
      "metadata": {
        "id": "6MXLcQe7nEOp"
      }
    },
    {
      "cell_type": "code",
      "source": [
        "t = np.matrix([\n",
        "    [1,1,],\n",
        "    [2,2],\n",
        "    [5,6]\n",
        "])\n",
        "\n",
        "q = np.matrix([\n",
        "    [2,4,],\n",
        "    [4,3]\n",
        "])\n",
        "\n",
        "t + q"
      ],
      "metadata": {
        "colab": {
          "base_uri": "https://localhost:8080/",
          "height": 200
        },
        "id": "XrFq3HZefc3q",
        "outputId": "7f421d3b-da2c-42bd-f811-b37dda331dca"
      },
      "execution_count": 14,
      "outputs": [
        {
          "output_type": "error",
          "ename": "ValueError",
          "evalue": "ignored",
          "traceback": [
            "\u001b[0;31m---------------------------------------------------------------------------\u001b[0m",
            "\u001b[0;31mValueError\u001b[0m                                Traceback (most recent call last)",
            "\u001b[0;32m<ipython-input-14-21ddd7b4bec2>\u001b[0m in \u001b[0;36m<module>\u001b[0;34m\u001b[0m\n\u001b[1;32m     10\u001b[0m ])\n\u001b[1;32m     11\u001b[0m \u001b[0;34m\u001b[0m\u001b[0m\n\u001b[0;32m---> 12\u001b[0;31m \u001b[0mt\u001b[0m \u001b[0;34m+\u001b[0m \u001b[0mq\u001b[0m\u001b[0;34m\u001b[0m\u001b[0;34m\u001b[0m\u001b[0m\n\u001b[0m",
            "\u001b[0;31mValueError\u001b[0m: operands could not be broadcast together with shapes (3,2) (2,2) "
          ]
        }
      ]
    },
    {
      "cell_type": "markdown",
      "source": [
        "#ACTIVIDAD 3. MULTIPLICACIÓN DE MATRICES"
      ],
      "metadata": {
        "id": "euqN7rA1nGE6"
      }
    },
    {
      "cell_type": "markdown",
      "source": [
        "Realiza el producto punto de 2 vectore de 3 dimensiones"
      ],
      "metadata": {
        "id": "3vEoUAQon8d6"
      }
    },
    {
      "cell_type": "code",
      "source": [
        "a= np.array([3,2,4])\n",
        "b = np.array([2,2,7])\n",
        "\n",
        "\n",
        "a.dot(b)\n",
        "\n"
      ],
      "metadata": {
        "colab": {
          "base_uri": "https://localhost:8080/"
        },
        "id": "didImdZjgtlT",
        "outputId": "5df050bb-d38d-472d-f5bd-5ff98bb3564d"
      },
      "execution_count": 15,
      "outputs": [
        {
          "output_type": "execute_result",
          "data": {
            "text/plain": [
              "38"
            ]
          },
          "metadata": {},
          "execution_count": 15
        }
      ]
    },
    {
      "cell_type": "markdown",
      "source": [
        "Realiza el producto cruz de 2 vectores de 3 dimensiones"
      ],
      "metadata": {
        "id": "YBSoJiDWoPpx"
      }
    },
    {
      "cell_type": "code",
      "source": [
        "a = np.array([5, 4, 7])\n",
        "b = np.array([2, 1, 9])\n",
        "\n",
        "np.cross(a, b)"
      ],
      "metadata": {
        "colab": {
          "base_uri": "https://localhost:8080/"
        },
        "id": "jlq1k6riho1H",
        "outputId": "cfda875c-de81-4d33-8a47-1fdf4fd51b84"
      },
      "execution_count": 16,
      "outputs": [
        {
          "output_type": "execute_result",
          "data": {
            "text/plain": [
              "array([ 29, -31,  -3])"
            ]
          },
          "metadata": {},
          "execution_count": 16
        }
      ]
    },
    {
      "cell_type": "markdown",
      "source": [
        "Realiza la multiplicación de 2 matrices de dimensiones compatibles"
      ],
      "metadata": {
        "id": "wGolVyKCoQvB"
      }
    },
    {
      "cell_type": "code",
      "source": [
        "t = np.matrix([\n",
        "    [1,1,],\n",
        "    [2,2]\n",
        "])\n",
        "\n",
        "q = np.matrix([\n",
        "    [2,4,],\n",
        "    [4,3]\n",
        "])\n",
        "\n",
        "t * q"
      ],
      "metadata": {
        "colab": {
          "base_uri": "https://localhost:8080/"
        },
        "id": "PC0ojHdBhz0r",
        "outputId": "06cb2abd-2e77-4db1-e769-6d0a4a03e707"
      },
      "execution_count": 17,
      "outputs": [
        {
          "output_type": "execute_result",
          "data": {
            "text/plain": [
              "matrix([[ 6,  7],\n",
              "        [12, 14]])"
            ]
          },
          "metadata": {},
          "execution_count": 17
        }
      ]
    },
    {
      "cell_type": "markdown",
      "source": [
        "Coloca un ejemplo de multiplicación de matrices que falle por dimensiones incompatibles"
      ],
      "metadata": {
        "id": "N_Qa1-TsoWfB"
      }
    },
    {
      "cell_type": "markdown",
      "source": [
        "#ACTIVIDAD 4. DETERMINANTE Y MATRIZ INVERSA"
      ],
      "metadata": {
        "id": "u-dU74-2nLI5"
      }
    },
    {
      "cell_type": "markdown",
      "source": [
        "Calcula el determinante de una matriz de 3x3"
      ],
      "metadata": {
        "id": "JqnEj3CxodoK"
      }
    },
    {
      "cell_type": "code",
      "source": [
        "t = np.matrix([\n",
        "    [4,9,8],\n",
        "    [8,5,4],\n",
        "    [4,9,7]\n",
        "])\n",
        "\n",
        "\n",
        "np.linalg.det(t)"
      ],
      "metadata": {
        "colab": {
          "base_uri": "https://localhost:8080/"
        },
        "id": "cpNbPO-hiUM4",
        "outputId": "69a04d78-e2c4-4157-cfbe-afe8bcca1f56"
      },
      "execution_count": 33,
      "outputs": [
        {
          "output_type": "execute_result",
          "data": {
            "text/plain": [
              "51.999999999999986"
            ]
          },
          "metadata": {},
          "execution_count": 33
        }
      ]
    },
    {
      "cell_type": "markdown",
      "source": [
        "Calcula la matriz inversa de una matriz de 4x4"
      ],
      "metadata": {
        "id": "ZnYAIhXOolfq"
      }
    },
    {
      "cell_type": "code",
      "source": [
        "p = np.matrix([\n",
        "    [4,9,8,9],\n",
        "    [8,5,4,1],\n",
        "    [4,9,7,5],\n",
        "    [9,1,4,8]\n",
        "])\n",
        "np.linalg.inv(p)"
      ],
      "metadata": {
        "colab": {
          "base_uri": "https://localhost:8080/"
        },
        "id": "Fv22JsGCi-3D",
        "outputId": "2c949087-78a7-41c9-c38e-6650b2e0e3cc"
      },
      "execution_count": 36,
      "outputs": [
        {
          "output_type": "execute_result",
          "data": {
            "text/plain": [
              "matrix([[ 0.52678571,  0.4375    , -0.75      , -0.17857143],\n",
              "        [ 2.61607143,  1.5625    , -3.25      , -1.10714286],\n",
              "        [-4.67857143, -2.75      ,  6.        ,  1.85714286],\n",
              "        [ 1.41964286,  0.6875    , -1.75      , -0.46428571]])"
            ]
          },
          "metadata": {},
          "execution_count": 36
        }
      ]
    },
    {
      "cell_type": "markdown",
      "source": [
        "Coloca un ejemplo de una matriz singular y compruebalo usando Numpy"
      ],
      "metadata": {
        "id": "1G52xsVeoxkC"
      }
    },
    {
      "cell_type": "code",
      "source": [
        "j = np.matrix([\n",
        "    [1,1,],\n",
        "    [2,2]])\n",
        "\n",
        "if (np.linalg.det(j)):\n",
        "  print(\"Matriz no singular\")\n",
        "else:\n",
        "  print(\"Es matriz singular\")\n",
        "\n"
      ],
      "metadata": {
        "colab": {
          "base_uri": "https://localhost:8080/"
        },
        "id": "akQ3ehgTjl5T",
        "outputId": "1cdc2484-388f-4771-f9a7-869c6d1310ef"
      },
      "execution_count": 43,
      "outputs": [
        {
          "output_type": "stream",
          "name": "stdout",
          "text": [
            "Es matriz singular\n"
          ]
        }
      ]
    }
  ]
}